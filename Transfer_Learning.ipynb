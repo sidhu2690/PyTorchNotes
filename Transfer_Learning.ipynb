{
  "nbformat": 4,
  "nbformat_minor": 0,
  "metadata": {
    "colab": {
      "provenance": [],
      "gpuType": "T4",
      "authorship_tag": "ABX9TyNfeijb9SiHA03/z88Tlvzr",
      "include_colab_link": true
    },
    "kernelspec": {
      "name": "python3",
      "display_name": "Python 3"
    },
    "language_info": {
      "name": "python"
    },
    "accelerator": "GPU"
  },
  "cells": [
    {
      "cell_type": "markdown",
      "metadata": {
        "id": "view-in-github",
        "colab_type": "text"
      },
      "source": [
        "<a href=\"https://colab.research.google.com/github/sidhu2690/CogniXis/blob/main/Transfer_Learning.ipynb\" target=\"_parent\"><img src=\"https://colab.research.google.com/assets/colab-badge.svg\" alt=\"Open In Colab\"/></a>"
      ]
    },
    {
      "cell_type": "code",
      "execution_count": 1,
      "metadata": {
        "id": "tbh_2hO53jvn"
      },
      "outputs": [],
      "source": [
        "import torch\n",
        "from torch import nn\n",
        "import torchvision\n",
        "from torchvision import transforms, datasets\n",
        "from torch.utils.data import DataLoader"
      ]
    },
    {
      "cell_type": "code",
      "source": [
        "weights= torchvision.models.EfficientNet_B0_Weights.DEFAULT\n",
        "Model=torchvision.models.efficientnet_b0(weights=weights)"
      ],
      "metadata": {
        "colab": {
          "base_uri": "https://localhost:8080/"
        },
        "id": "ZxxjeGYA7IDI",
        "outputId": "980051c5-b889-406e-fea3-590b5c612f9a"
      },
      "execution_count": 2,
      "outputs": [
        {
          "output_type": "stream",
          "name": "stderr",
          "text": [
            "Downloading: \"https://download.pytorch.org/models/efficientnet_b0_rwightman-7f5810bc.pth\" to /root/.cache/torch/hub/checkpoints/efficientnet_b0_rwightman-7f5810bc.pth\n",
            "100%|██████████| 20.5M/20.5M [00:00<00:00, 159MB/s]\n"
          ]
        }
      ]
    },
    {
      "cell_type": "code",
      "source": [
        "pip install torchinfo; pip install cognixis"
      ],
      "metadata": {
        "colab": {
          "base_uri": "https://localhost:8080/"
        },
        "id": "A1yUBOlYL9B2",
        "outputId": "e355223a-7dd1-4864-f273-66a85f3a5760"
      },
      "execution_count": 6,
      "outputs": [
        {
          "output_type": "stream",
          "name": "stdout",
          "text": [
            "Requirement already satisfied: torchinfo in /usr/local/lib/python3.11/dist-packages (1.8.0)\n",
            "Collecting cognixis\n",
            "  Downloading cognixis-0.1.3-py3-none-any.whl.metadata (624 bytes)\n",
            "Requirement already satisfied: torch>=1.0 in /usr/local/lib/python3.11/dist-packages (from cognixis) (2.5.1+cu121)\n",
            "Requirement already satisfied: filelock in /usr/local/lib/python3.11/dist-packages (from torch>=1.0->cognixis) (3.16.1)\n",
            "Requirement already satisfied: typing-extensions>=4.8.0 in /usr/local/lib/python3.11/dist-packages (from torch>=1.0->cognixis) (4.12.2)\n",
            "Requirement already satisfied: networkx in /usr/local/lib/python3.11/dist-packages (from torch>=1.0->cognixis) (3.4.2)\n",
            "Requirement already satisfied: jinja2 in /usr/local/lib/python3.11/dist-packages (from torch>=1.0->cognixis) (3.1.5)\n",
            "Requirement already satisfied: fsspec in /usr/local/lib/python3.11/dist-packages (from torch>=1.0->cognixis) (2024.10.0)\n",
            "Requirement already satisfied: nvidia-cuda-nvrtc-cu12==12.1.105 in /usr/local/lib/python3.11/dist-packages (from torch>=1.0->cognixis) (12.1.105)\n",
            "Requirement already satisfied: nvidia-cuda-runtime-cu12==12.1.105 in /usr/local/lib/python3.11/dist-packages (from torch>=1.0->cognixis) (12.1.105)\n",
            "Requirement already satisfied: nvidia-cuda-cupti-cu12==12.1.105 in /usr/local/lib/python3.11/dist-packages (from torch>=1.0->cognixis) (12.1.105)\n",
            "Requirement already satisfied: nvidia-cudnn-cu12==9.1.0.70 in /usr/local/lib/python3.11/dist-packages (from torch>=1.0->cognixis) (9.1.0.70)\n",
            "Requirement already satisfied: nvidia-cublas-cu12==12.1.3.1 in /usr/local/lib/python3.11/dist-packages (from torch>=1.0->cognixis) (12.1.3.1)\n",
            "Requirement already satisfied: nvidia-cufft-cu12==11.0.2.54 in /usr/local/lib/python3.11/dist-packages (from torch>=1.0->cognixis) (11.0.2.54)\n",
            "Requirement already satisfied: nvidia-curand-cu12==10.3.2.106 in /usr/local/lib/python3.11/dist-packages (from torch>=1.0->cognixis) (10.3.2.106)\n",
            "Requirement already satisfied: nvidia-cusolver-cu12==11.4.5.107 in /usr/local/lib/python3.11/dist-packages (from torch>=1.0->cognixis) (11.4.5.107)\n",
            "Requirement already satisfied: nvidia-cusparse-cu12==12.1.0.106 in /usr/local/lib/python3.11/dist-packages (from torch>=1.0->cognixis) (12.1.0.106)\n",
            "Requirement already satisfied: nvidia-nccl-cu12==2.21.5 in /usr/local/lib/python3.11/dist-packages (from torch>=1.0->cognixis) (2.21.5)\n",
            "Requirement already satisfied: nvidia-nvtx-cu12==12.1.105 in /usr/local/lib/python3.11/dist-packages (from torch>=1.0->cognixis) (12.1.105)\n",
            "Requirement already satisfied: triton==3.1.0 in /usr/local/lib/python3.11/dist-packages (from torch>=1.0->cognixis) (3.1.0)\n",
            "Requirement already satisfied: sympy==1.13.1 in /usr/local/lib/python3.11/dist-packages (from torch>=1.0->cognixis) (1.13.1)\n",
            "Requirement already satisfied: nvidia-nvjitlink-cu12 in /usr/local/lib/python3.11/dist-packages (from nvidia-cusolver-cu12==11.4.5.107->torch>=1.0->cognixis) (12.6.85)\n",
            "Requirement already satisfied: mpmath<1.4,>=1.1.0 in /usr/local/lib/python3.11/dist-packages (from sympy==1.13.1->torch>=1.0->cognixis) (1.3.0)\n",
            "Requirement already satisfied: MarkupSafe>=2.0 in /usr/local/lib/python3.11/dist-packages (from jinja2->torch>=1.0->cognixis) (3.0.2)\n",
            "Downloading cognixis-0.1.3-py3-none-any.whl (2.4 kB)\n",
            "Installing collected packages: cognixis\n",
            "Successfully installed cognixis-0.1.3\n"
          ]
        }
      ]
    },
    {
      "cell_type": "code",
      "source": [
        "from torchinfo import summary\n",
        "\n",
        "summary(\n",
        "    model=Model,\n",
        "    input_size=(1, 3, 224, 224),\n",
        "    col_names=[\"input_size\", \"output_size\", \"num_params\", \"trainable\"]\n",
        ")"
      ],
      "metadata": {
        "colab": {
          "base_uri": "https://localhost:8080/"
        },
        "id": "acSpfNS0K5Oc",
        "outputId": "a9d44b21-78c9-43ec-dbf2-fa5fc0c47897"
      },
      "execution_count": 7,
      "outputs": [
        {
          "output_type": "execute_result",
          "data": {
            "text/plain": [
              "===========================================================================================================================================================\n",
              "Layer (type:depth-idx)                                  Input Shape               Output Shape              Param #                   Trainable\n",
              "===========================================================================================================================================================\n",
              "EfficientNet                                            [1, 3, 224, 224]          [1, 1000]                 --                        True\n",
              "├─Sequential: 1-1                                       [1, 3, 224, 224]          [1, 1280, 7, 7]           --                        True\n",
              "│    └─Conv2dNormActivation: 2-1                        [1, 3, 224, 224]          [1, 32, 112, 112]         --                        True\n",
              "│    │    └─Conv2d: 3-1                                 [1, 3, 224, 224]          [1, 32, 112, 112]         864                       True\n",
              "│    │    └─BatchNorm2d: 3-2                            [1, 32, 112, 112]         [1, 32, 112, 112]         64                        True\n",
              "│    │    └─SiLU: 3-3                                   [1, 32, 112, 112]         [1, 32, 112, 112]         --                        --\n",
              "│    └─Sequential: 2-2                                  [1, 32, 112, 112]         [1, 16, 112, 112]         --                        True\n",
              "│    │    └─MBConv: 3-4                                 [1, 32, 112, 112]         [1, 16, 112, 112]         1,448                     True\n",
              "│    └─Sequential: 2-3                                  [1, 16, 112, 112]         [1, 24, 56, 56]           --                        True\n",
              "│    │    └─MBConv: 3-5                                 [1, 16, 112, 112]         [1, 24, 56, 56]           6,004                     True\n",
              "│    │    └─MBConv: 3-6                                 [1, 24, 56, 56]           [1, 24, 56, 56]           10,710                    True\n",
              "│    └─Sequential: 2-4                                  [1, 24, 56, 56]           [1, 40, 28, 28]           --                        True\n",
              "│    │    └─MBConv: 3-7                                 [1, 24, 56, 56]           [1, 40, 28, 28]           15,350                    True\n",
              "│    │    └─MBConv: 3-8                                 [1, 40, 28, 28]           [1, 40, 28, 28]           31,290                    True\n",
              "│    └─Sequential: 2-5                                  [1, 40, 28, 28]           [1, 80, 14, 14]           --                        True\n",
              "│    │    └─MBConv: 3-9                                 [1, 40, 28, 28]           [1, 80, 14, 14]           37,130                    True\n",
              "│    │    └─MBConv: 3-10                                [1, 80, 14, 14]           [1, 80, 14, 14]           102,900                   True\n",
              "│    │    └─MBConv: 3-11                                [1, 80, 14, 14]           [1, 80, 14, 14]           102,900                   True\n",
              "│    └─Sequential: 2-6                                  [1, 80, 14, 14]           [1, 112, 14, 14]          --                        True\n",
              "│    │    └─MBConv: 3-12                                [1, 80, 14, 14]           [1, 112, 14, 14]          126,004                   True\n",
              "│    │    └─MBConv: 3-13                                [1, 112, 14, 14]          [1, 112, 14, 14]          208,572                   True\n",
              "│    │    └─MBConv: 3-14                                [1, 112, 14, 14]          [1, 112, 14, 14]          208,572                   True\n",
              "│    └─Sequential: 2-7                                  [1, 112, 14, 14]          [1, 192, 7, 7]            --                        True\n",
              "│    │    └─MBConv: 3-15                                [1, 112, 14, 14]          [1, 192, 7, 7]            262,492                   True\n",
              "│    │    └─MBConv: 3-16                                [1, 192, 7, 7]            [1, 192, 7, 7]            587,952                   True\n",
              "│    │    └─MBConv: 3-17                                [1, 192, 7, 7]            [1, 192, 7, 7]            587,952                   True\n",
              "│    │    └─MBConv: 3-18                                [1, 192, 7, 7]            [1, 192, 7, 7]            587,952                   True\n",
              "│    └─Sequential: 2-8                                  [1, 192, 7, 7]            [1, 320, 7, 7]            --                        True\n",
              "│    │    └─MBConv: 3-19                                [1, 192, 7, 7]            [1, 320, 7, 7]            717,232                   True\n",
              "│    └─Conv2dNormActivation: 2-9                        [1, 320, 7, 7]            [1, 1280, 7, 7]           --                        True\n",
              "│    │    └─Conv2d: 3-20                                [1, 320, 7, 7]            [1, 1280, 7, 7]           409,600                   True\n",
              "│    │    └─BatchNorm2d: 3-21                           [1, 1280, 7, 7]           [1, 1280, 7, 7]           2,560                     True\n",
              "│    │    └─SiLU: 3-22                                  [1, 1280, 7, 7]           [1, 1280, 7, 7]           --                        --\n",
              "├─AdaptiveAvgPool2d: 1-2                                [1, 1280, 7, 7]           [1, 1280, 1, 1]           --                        --\n",
              "├─Sequential: 1-3                                       [1, 1280]                 [1, 1000]                 --                        True\n",
              "│    └─Dropout: 2-10                                    [1, 1280]                 [1, 1280]                 --                        --\n",
              "│    └─Linear: 2-11                                     [1, 1280]                 [1, 1000]                 1,281,000                 True\n",
              "===========================================================================================================================================================\n",
              "Total params: 5,288,548\n",
              "Trainable params: 5,288,548\n",
              "Non-trainable params: 0\n",
              "Total mult-adds (Units.MEGABYTES): 385.87\n",
              "===========================================================================================================================================================\n",
              "Input size (MB): 0.60\n",
              "Forward/backward pass size (MB): 107.89\n",
              "Params size (MB): 21.15\n",
              "Estimated Total Size (MB): 129.64\n",
              "==========================================================================================================================================================="
            ]
          },
          "metadata": {},
          "execution_count": 7
        }
      ]
    },
    {
      "cell_type": "code",
      "source": [
        "for param in Model.features.parameters():\n",
        "  param.requires_grad = False"
      ],
      "metadata": {
        "id": "iP10pFQ1LB22"
      },
      "execution_count": 8,
      "outputs": []
    },
    {
      "cell_type": "code",
      "source": [
        "summary(\n",
        "    model=Model,\n",
        "    input_size=(1, 3, 224, 224),\n",
        "    col_names=[\"input_size\", \"output_size\", \"num_params\", \"trainable\"]\n",
        ")"
      ],
      "metadata": {
        "colab": {
          "base_uri": "https://localhost:8080/"
        },
        "id": "23729bhyMS50",
        "outputId": "f4a51c19-3b54-433f-fb60-d89ba41344ec"
      },
      "execution_count": 9,
      "outputs": [
        {
          "output_type": "execute_result",
          "data": {
            "text/plain": [
              "===========================================================================================================================================================\n",
              "Layer (type:depth-idx)                                  Input Shape               Output Shape              Param #                   Trainable\n",
              "===========================================================================================================================================================\n",
              "EfficientNet                                            [1, 3, 224, 224]          [1, 1000]                 --                        Partial\n",
              "├─Sequential: 1-1                                       [1, 3, 224, 224]          [1, 1280, 7, 7]           --                        False\n",
              "│    └─Conv2dNormActivation: 2-1                        [1, 3, 224, 224]          [1, 32, 112, 112]         --                        False\n",
              "│    │    └─Conv2d: 3-1                                 [1, 3, 224, 224]          [1, 32, 112, 112]         (864)                     False\n",
              "│    │    └─BatchNorm2d: 3-2                            [1, 32, 112, 112]         [1, 32, 112, 112]         (64)                      False\n",
              "│    │    └─SiLU: 3-3                                   [1, 32, 112, 112]         [1, 32, 112, 112]         --                        --\n",
              "│    └─Sequential: 2-2                                  [1, 32, 112, 112]         [1, 16, 112, 112]         --                        False\n",
              "│    │    └─MBConv: 3-4                                 [1, 32, 112, 112]         [1, 16, 112, 112]         (1,448)                   False\n",
              "│    └─Sequential: 2-3                                  [1, 16, 112, 112]         [1, 24, 56, 56]           --                        False\n",
              "│    │    └─MBConv: 3-5                                 [1, 16, 112, 112]         [1, 24, 56, 56]           (6,004)                   False\n",
              "│    │    └─MBConv: 3-6                                 [1, 24, 56, 56]           [1, 24, 56, 56]           (10,710)                  False\n",
              "│    └─Sequential: 2-4                                  [1, 24, 56, 56]           [1, 40, 28, 28]           --                        False\n",
              "│    │    └─MBConv: 3-7                                 [1, 24, 56, 56]           [1, 40, 28, 28]           (15,350)                  False\n",
              "│    │    └─MBConv: 3-8                                 [1, 40, 28, 28]           [1, 40, 28, 28]           (31,290)                  False\n",
              "│    └─Sequential: 2-5                                  [1, 40, 28, 28]           [1, 80, 14, 14]           --                        False\n",
              "│    │    └─MBConv: 3-9                                 [1, 40, 28, 28]           [1, 80, 14, 14]           (37,130)                  False\n",
              "│    │    └─MBConv: 3-10                                [1, 80, 14, 14]           [1, 80, 14, 14]           (102,900)                 False\n",
              "│    │    └─MBConv: 3-11                                [1, 80, 14, 14]           [1, 80, 14, 14]           (102,900)                 False\n",
              "│    └─Sequential: 2-6                                  [1, 80, 14, 14]           [1, 112, 14, 14]          --                        False\n",
              "│    │    └─MBConv: 3-12                                [1, 80, 14, 14]           [1, 112, 14, 14]          (126,004)                 False\n",
              "│    │    └─MBConv: 3-13                                [1, 112, 14, 14]          [1, 112, 14, 14]          (208,572)                 False\n",
              "│    │    └─MBConv: 3-14                                [1, 112, 14, 14]          [1, 112, 14, 14]          (208,572)                 False\n",
              "│    └─Sequential: 2-7                                  [1, 112, 14, 14]          [1, 192, 7, 7]            --                        False\n",
              "│    │    └─MBConv: 3-15                                [1, 112, 14, 14]          [1, 192, 7, 7]            (262,492)                 False\n",
              "│    │    └─MBConv: 3-16                                [1, 192, 7, 7]            [1, 192, 7, 7]            (587,952)                 False\n",
              "│    │    └─MBConv: 3-17                                [1, 192, 7, 7]            [1, 192, 7, 7]            (587,952)                 False\n",
              "│    │    └─MBConv: 3-18                                [1, 192, 7, 7]            [1, 192, 7, 7]            (587,952)                 False\n",
              "│    └─Sequential: 2-8                                  [1, 192, 7, 7]            [1, 320, 7, 7]            --                        False\n",
              "│    │    └─MBConv: 3-19                                [1, 192, 7, 7]            [1, 320, 7, 7]            (717,232)                 False\n",
              "│    └─Conv2dNormActivation: 2-9                        [1, 320, 7, 7]            [1, 1280, 7, 7]           --                        False\n",
              "│    │    └─Conv2d: 3-20                                [1, 320, 7, 7]            [1, 1280, 7, 7]           (409,600)                 False\n",
              "│    │    └─BatchNorm2d: 3-21                           [1, 1280, 7, 7]           [1, 1280, 7, 7]           (2,560)                   False\n",
              "│    │    └─SiLU: 3-22                                  [1, 1280, 7, 7]           [1, 1280, 7, 7]           --                        --\n",
              "├─AdaptiveAvgPool2d: 1-2                                [1, 1280, 7, 7]           [1, 1280, 1, 1]           --                        --\n",
              "├─Sequential: 1-3                                       [1, 1280]                 [1, 1000]                 --                        True\n",
              "│    └─Dropout: 2-10                                    [1, 1280]                 [1, 1280]                 --                        --\n",
              "│    └─Linear: 2-11                                     [1, 1280]                 [1, 1000]                 1,281,000                 True\n",
              "===========================================================================================================================================================\n",
              "Total params: 5,288,548\n",
              "Trainable params: 1,281,000\n",
              "Non-trainable params: 4,007,548\n",
              "Total mult-adds (Units.MEGABYTES): 385.87\n",
              "===========================================================================================================================================================\n",
              "Input size (MB): 0.60\n",
              "Forward/backward pass size (MB): 107.89\n",
              "Params size (MB): 21.15\n",
              "Estimated Total Size (MB): 129.64\n",
              "==========================================================================================================================================================="
            ]
          },
          "metadata": {},
          "execution_count": 9
        }
      ]
    },
    {
      "cell_type": "code",
      "source": [
        "Model.classifier= nn.Sequential(\n",
        "    nn.Dropout(p=0.2, inplace=True),\n",
        "    nn.Linear(1280, 3)\n",
        ")."
      ],
      "metadata": {
        "id": "Ju5GO6qiMU37"
      },
      "execution_count": 11,
      "outputs": []
    },
    {
      "cell_type": "code",
      "source": [
        "Model=Model.to(device)"
      ],
      "metadata": {
        "id": "mumkf1Z-ApCY"
      },
      "execution_count": 23,
      "outputs": []
    },
    {
      "cell_type": "code",
      "source": [
        "!wget -q https://github.com/mrdbourke/pytorch-deep-learning/raw/main/data/pizza_steak_sushi.zip -O pizza_steak_sushi.zip\n",
        "!unzip -q pizza_steak_sushi.zip -d ./data/"
      ],
      "metadata": {
        "colab": {
          "base_uri": "https://localhost:8080/"
        },
        "id": "Y5Ab1yF0NOgy",
        "outputId": "f15b8126-eec5-4d4f-a177-0ea5ac7a1954"
      },
      "execution_count": 24,
      "outputs": [
        {
          "output_type": "stream",
          "name": "stdout",
          "text": [
            "replace ./data/test/steak/296375.jpg? [y]es, [n]o, [A]ll, [N]one, [r]ename: n\n",
            "replace ./data/test/steak/354513.jpg? [y]es, [n]o, [A]ll, [N]one, [r]ename: N\n"
          ]
        }
      ]
    },
    {
      "cell_type": "code",
      "source": [
        "train_dir = \"/content/data/train\"\n",
        "test_dir = \"/content/data/test\""
      ],
      "metadata": {
        "id": "mkL16TqqN4Ia"
      },
      "execution_count": 29,
      "outputs": []
    },
    {
      "cell_type": "code",
      "source": [
        "data_transforms = transforms.Compose([\n",
        "    transforms.Resize((224, 224)),\n",
        "    transforms.ToTensor(),\n",
        "    transforms.Normalize(mean=[0.49, 0.45, 0.42], std= [0.22, 0.22, 0.22])\n",
        "])"
      ],
      "metadata": {
        "id": "2k6dSn5rN5lx"
      },
      "execution_count": 30,
      "outputs": []
    },
    {
      "cell_type": "code",
      "source": [
        "train_data=datasets.ImageFolder(root=train_dir, transform= data_transforms)\n",
        "test_data= datasets.ImageFolder(root=test_dir, transform= data_transforms)"
      ],
      "metadata": {
        "id": "ZYEKpDQdN900"
      },
      "execution_count": 31,
      "outputs": []
    },
    {
      "cell_type": "code",
      "source": [
        "train_loader=DataLoader(train_data, batch_size= 32, shuffle= True)\n",
        "test_loader= DataLoader(test_data, batch_size= 32, shuffle= True)"
      ],
      "metadata": {
        "id": "YJTipx5gN_LB"
      },
      "execution_count": 32,
      "outputs": []
    },
    {
      "cell_type": "code",
      "source": [
        "device= \"cuda\" if torch.cuda.is_available() else \"cpu\""
      ],
      "metadata": {
        "id": "rANIjOzcOAqu"
      },
      "execution_count": 33,
      "outputs": []
    },
    {
      "cell_type": "code",
      "source": [
        "loss_fn= nn.CrossEntropyLoss()\n",
        "optimizer= torch.optim.Adam(Model.parameters(),\n",
        "                            lr=0.001)"
      ],
      "metadata": {
        "id": "1w0Ro1WkOCnz"
      },
      "execution_count": 34,
      "outputs": []
    },
    {
      "cell_type": "code",
      "source": [
        "from cognixis import train, train_code"
      ],
      "metadata": {
        "id": "pG6tHwjL_95J"
      },
      "execution_count": 35,
      "outputs": []
    },
    {
      "cell_type": "code",
      "source": [
        "train(Model, train_loader, test_loader, loss_fn, optimizer, epochs=5, device= device)"
      ],
      "metadata": {
        "colab": {
          "base_uri": "https://localhost:8080/"
        },
        "id": "1D27IA7KAByt",
        "outputId": "2320159a-f8f4-49a7-95d2-8009b8e3cc73"
      },
      "execution_count": 36,
      "outputs": [
        {
          "output_type": "stream",
          "name": "stdout",
          "text": [
            "Epoch: 1/5 | Train Loss: 8.4694 | Train Accuracy: 40.44% | Test Loss: 2.7045 | Test Accuracy: 60.00%\n",
            "Epoch: 2/5 | Train Loss: 7.3489 | Train Accuracy: 69.33% | Test Loss: 2.1583 | Test Accuracy: 81.33%\n",
            "Epoch: 3/5 | Train Loss: 5.9834 | Train Accuracy: 86.22% | Test Loss: 1.9860 | Test Accuracy: 86.67%\n",
            "Epoch: 4/5 | Train Loss: 5.7396 | Train Accuracy: 88.00% | Test Loss: 1.8842 | Test Accuracy: 84.00%\n",
            "Epoch: 5/5 | Train Loss: 5.1806 | Train Accuracy: 89.33% | Test Loss: 1.6895 | Test Accuracy: 88.00%\n"
          ]
        }
      ]
    },
    {
      "cell_type": "code",
      "source": [],
      "metadata": {
        "id": "7H_-D7KyAT3s"
      },
      "execution_count": null,
      "outputs": []
    }
  ]
}