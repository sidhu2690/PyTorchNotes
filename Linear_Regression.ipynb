{
  "nbformat": 4,
  "nbformat_minor": 0,
  "metadata": {
    "colab": {
      "provenance": [],
      "authorship_tag": "ABX9TyMbdN5DrvkvLkygFYUtvrHI",
      "include_colab_link": true
    },
    "kernelspec": {
      "name": "python3",
      "display_name": "Python 3"
    },
    "language_info": {
      "name": "python"
    }
  },
  "cells": [
    {
      "cell_type": "markdown",
      "metadata": {
        "id": "view-in-github",
        "colab_type": "text"
      },
      "source": [
        "<a href=\"https://colab.research.google.com/github/sidhu2690/CogniXis/blob/main/Linear_Regression.ipynb\" target=\"_parent\"><img src=\"https://colab.research.google.com/assets/colab-badge.svg\" alt=\"Open In Colab\"/></a>"
      ]
    },
    {
      "cell_type": "markdown",
      "source": [
        "In this notebook, we will be developing a simple linear regression model using PyTorch.\n"
      ],
      "metadata": {
        "id": "5sEX0M9nOUI9"
      }
    },
    {
      "cell_type": "code",
      "source": [
        "# Let's create data for training our model\n",
        "\n",
        "np.random.seed(42)\n",
        "X = np.arange(1,1000)\n",
        "y = 3 * X + 7\n",
        "\n",
        "# Convert data to torch tensors\n",
        "X = torch.tensor(X, dtype=torch.float32)\n",
        "y = torch.tensor(y, dtype=torch.float32)"
      ],
      "metadata": {
        "id": "RuSUELVfOvmA"
      },
      "execution_count": 187,
      "outputs": []
    },
    {
      "cell_type": "code",
      "source": [
        "X_train, X_test, y_train, y_test= X[:800], X[800:], y[:800], y[800:]"
      ],
      "metadata": {
        "id": "g6q5PLuTPgWc"
      },
      "execution_count": 188,
      "outputs": []
    },
    {
      "cell_type": "code",
      "source": [
        "type(X_train), len(X_train)"
      ],
      "metadata": {
        "colab": {
          "base_uri": "https://localhost:8080/"
        },
        "id": "Qx0Af6cSPvEi",
        "outputId": "a5567bc0-44b9-4d20-92ba-fb3a25a8eaef"
      },
      "execution_count": 189,
      "outputs": [
        {
          "output_type": "execute_result",
          "data": {
            "text/plain": [
              "(torch.Tensor, 800)"
            ]
          },
          "metadata": {},
          "execution_count": 189
        }
      ]
    },
    {
      "cell_type": "markdown",
      "source": [
        "We have successfully created the data. Now, let's create the model."
      ],
      "metadata": {
        "id": "Ezr3Zlo-P4Ow"
      }
    },
    {
      "cell_type": "code",
      "execution_count": 190,
      "metadata": {
        "id": "MxbBcijqLofy"
      },
      "outputs": [],
      "source": [
        "import torch\n",
        "from torch import nn"
      ]
    },
    {
      "cell_type": "code",
      "source": [
        "class LinearRegressionModel(nn.Module):\n",
        "  def __init__(self):\n",
        "    super().__init__()\n",
        "\n",
        "    self.weights =nn.Parameter(torch.randn(1, dtype=torch.float, requires_grad=True))\n",
        "    self.bias= nn.Parameter(torch.randn(1, dtype=torch.float, requires_grad= True))\n",
        "\n",
        "  def forward(self, x):\n",
        "    return self.weights*x+ self.bias\n",
        "\n",
        "Model= LinearRegressionModel()"
      ],
      "metadata": {
        "id": "U6aZ_b1WNIGa"
      },
      "execution_count": 191,
      "outputs": []
    },
    {
      "cell_type": "code",
      "source": [
        "Model"
      ],
      "metadata": {
        "colab": {
          "base_uri": "https://localhost:8080/"
        },
        "id": "GqN9qoW3N_4m",
        "outputId": "777899d3-d600-456f-ff45-7586addd9529"
      },
      "execution_count": 192,
      "outputs": [
        {
          "output_type": "execute_result",
          "data": {
            "text/plain": [
              "LinearRegressionModel()"
            ]
          },
          "metadata": {},
          "execution_count": 192
        }
      ]
    },
    {
      "cell_type": "code",
      "source": [
        "list(Model.parameters())"
      ],
      "metadata": {
        "colab": {
          "base_uri": "https://localhost:8080/"
        },
        "id": "_9isgFT5OC0Y",
        "outputId": "ca119907-db17-463c-90e0-1cc2b1d011a9"
      },
      "execution_count": 193,
      "outputs": [
        {
          "output_type": "execute_result",
          "data": {
            "text/plain": [
              "[Parameter containing:\n",
              " tensor([0.3240], requires_grad=True),\n",
              " Parameter containing:\n",
              " tensor([-0.9342], requires_grad=True)]"
            ]
          },
          "metadata": {},
          "execution_count": 193
        }
      ]
    },
    {
      "cell_type": "code",
      "source": [
        "Model.state_dict()"
      ],
      "metadata": {
        "colab": {
          "base_uri": "https://localhost:8080/"
        },
        "id": "29WrR_ZIOgTB",
        "outputId": "3fe059b8-ecb0-4956-92c3-8f4ade13b108"
      },
      "execution_count": 194,
      "outputs": [
        {
          "output_type": "execute_result",
          "data": {
            "text/plain": [
              "OrderedDict([('weights', tensor([0.3240])), ('bias', tensor([-0.9342]))])"
            ]
          },
          "metadata": {},
          "execution_count": 194
        }
      ]
    },
    {
      "cell_type": "code",
      "source": [
        "with torch.inference_mode():\n",
        "  y_pred= Model(X_test)\n",
        "\n",
        "with torch.no_grad():\n",
        "  y_pred_1= Model(X_test)\n",
        "\n",
        "torch.eq(y_pred, y_pred_1).sum()/len(y_pred)"
      ],
      "metadata": {
        "colab": {
          "base_uri": "https://localhost:8080/"
        },
        "collapsed": true,
        "id": "v3NFpAz5Omv8",
        "outputId": "6c3b154a-b773-4d0e-9748-e790d9004f72"
      },
      "execution_count": 195,
      "outputs": [
        {
          "output_type": "execute_result",
          "data": {
            "text/plain": [
              "tensor(1.)"
            ]
          },
          "metadata": {},
          "execution_count": 195
        }
      ]
    },
    {
      "cell_type": "markdown",
      "source": [
        "Both the predictions are the same whether we use `torch.no_grad` or `torch.inference_mode`.\n"
      ],
      "metadata": {
        "id": "fYbjDoHPQrPc"
      }
    },
    {
      "cell_type": "code",
      "source": [
        "plt.figure(figsize=(5, 5))\n",
        "plt.scatter(X_train, y_train, c='b')\n",
        "plt.scatter(X_test, y_test, c='g')\n",
        "plt.scatter(X_test, y_pred, c='r')"
      ],
      "metadata": {
        "colab": {
          "base_uri": "https://localhost:8080/",
          "height": 462
        },
        "id": "LuDFCjtQQR7T",
        "outputId": "1fd96b4d-354d-4bb4-ea08-be5cca992a9a"
      },
      "execution_count": 196,
      "outputs": [
        {
          "output_type": "execute_result",
          "data": {
            "text/plain": [
              "<matplotlib.collections.PathCollection at 0x7a7fd1d95d90>"
            ]
          },
          "metadata": {},
          "execution_count": 196
        },
        {
          "output_type": "display_data",
          "data": {
            "text/plain": [
              "<Figure size 500x500 with 1 Axes>"
            ],
            "image/png": "[encoded data removed]"
          },
          "metadata": {}
        }
      ]
    },
    {
      "cell_type": "markdown",
      "source": [
        "The predictions are not aligning with our expectations, so we need to move the red part to the green part.  \n",
        "To do that, we have to train our model, which involves several steps, and we are going to do that.\n"
      ],
      "metadata": {
        "id": "9Z-3bwQcR3QV"
      }
    },
    {
      "cell_type": "code",
      "source": [
        "loss_fn = torch.nn.L1Loss()   #MAE\n",
        "optimizer = torch.optim.SGD(params=Model.parameters(), lr=0.001)"
      ],
      "metadata": {
        "id": "qiCadvMbRayp"
      },
      "execution_count": 197,
      "outputs": []
    },
    {
      "cell_type": "code",
      "source": [
        "epochs = 10000\n",
        "\n",
        "for epoch in range(epochs):\n",
        "    # Training phase\n",
        "    Model.train()\n",
        "    y_pred = Model(X_train)\n",
        "    loss = loss_fn(y_pred, y_train)\n",
        "    optimizer.zero_grad()\n",
        "    loss.backward()\n",
        "    optimizer.step()\n",
        "\n",
        "    if epoch % 500 == 0:\n",
        "        print(f\"Epoch: {epoch} | Training Loss: {loss.item():.4f}\")\n",
        "\n",
        "# Plot the results\n",
        "Model.eval()\n",
        "with torch.inference_mode():\n",
        "    y_pred = Model(X_test).detach().numpy()"
      ],
      "metadata": {
        "colab": {
          "base_uri": "https://localhost:8080/"
        },
        "id": "pcZ5inByUy32",
        "outputId": "1edabffd-002f-4078-cd31-7a22b4102d23"
      },
      "execution_count": 198,
      "outputs": [
        {
          "output_type": "stream",
          "name": "stdout",
          "text": [
            "Epoch: 0 | Training Loss: 1079.6915\n",
            "Epoch: 500 | Training Loss: 11.2018\n",
            "Epoch: 1000 | Training Loss: 28.3057\n",
            "Epoch: 1500 | Training Loss: 4.3534\n",
            "Epoch: 2000 | Training Loss: 10.1617\n",
            "Epoch: 2500 | Training Loss: 23.1880\n",
            "Epoch: 3000 | Training Loss: 5.3019\n",
            "Epoch: 3500 | Training Loss: 5.1931\n",
            "Epoch: 4000 | Training Loss: 4.3816\n",
            "Epoch: 4500 | Training Loss: 17.8036\n",
            "Epoch: 5000 | Training Loss: 15.5458\n",
            "Epoch: 5500 | Training Loss: 4.7925\n",
            "Epoch: 6000 | Training Loss: 6.1531\n",
            "Epoch: 6500 | Training Loss: 15.8671\n",
            "Epoch: 7000 | Training Loss: 11.4344\n",
            "Epoch: 7500 | Training Loss: 8.4406\n",
            "Epoch: 8000 | Training Loss: 24.9963\n",
            "Epoch: 8500 | Training Loss: 15.4979\n",
            "Epoch: 9000 | Training Loss: 5.2945\n",
            "Epoch: 9500 | Training Loss: 10.1694\n"
          ]
        }
      ]
    },
    {
      "cell_type": "code",
      "source": [
        "plt.figure(figsize=(5, 5))\n",
        "plt.scatter(X_train, y_train, c='b')\n",
        "plt.scatter(X_test, y_test, c='g')\n",
        "plt.scatter(X_test, y_pred, c='r')"
      ],
      "metadata": {
        "colab": {
          "base_uri": "https://localhost:8080/",
          "height": 462
        },
        "id": "MEMQwE5sUpIn",
        "outputId": "e834c575-e471-4caa-8c59-b29888920cee"
      },
      "execution_count": 199,
      "outputs": [
        {
          "output_type": "execute_result",
          "data": {
            "text/plain": [
              "<matplotlib.collections.PathCollection at 0x7a7fd1b25d50>"
            ]
          },
          "metadata": {},
          "execution_count": 199
        },
        {
          "output_type": "display_data",
          "data": {
            "text/plain": [
              "<Figure size 500x500 with 1 Axes>"
            ],
            "image/png": "[encoded data removed]"
          },
          "metadata": {}
        }
      ]
    },
    {
      "cell_type": "markdown",
      "source": [
        "# DONE"
      ],
      "metadata": {
        "id": "jqv6nHOLgdLD"
      }
    }
  ]
}