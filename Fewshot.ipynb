{
  "nbformat": 4,
  "nbformat_minor": 0,
  "metadata": {
    "colab": {
      "provenance": [],
      "authorship_tag": "ABX9TyPxB1z6/dY/ZeAgChhHW7zV",
      "include_colab_link": true
    },
    "kernelspec": {
      "name": "python3",
      "display_name": "Python 3"
    },
    "language_info": {
      "name": "python"
    }
  },
  "cells": [
    {
      "cell_type": "markdown",
      "metadata": {
        "id": "view-in-github",
        "colab_type": "text"
      },
      "source": [
        "<a href=\"https://colab.research.google.com/github/sidhu2690/PyTorchNotes/blob/main/Fewshot.ipynb\" target=\"_parent\"><img src=\"https://colab.research.google.com/assets/colab-badge.svg\" alt=\"Open In Colab\"/></a>"
      ]
    },
    {
      "cell_type": "code",
      "source": [
        "import torch\n",
        "import torch.nn.functional as F\n",
        "import torchvision.models as models"
      ],
      "metadata": {
        "id": "0Oz2molospUC"
      },
      "execution_count": 16,
      "outputs": []
    },
    {
      "cell_type": "code",
      "source": [
        "support = torch.rand(3, 224, 224)        # Support image [3(channels), H, W]"
      ],
      "metadata": {
        "id": "__D6jaKrvbY9"
      },
      "execution_count": 21,
      "outputs": []
    },
    {
      "cell_type": "code",
      "source": [
        "support"
      ],
      "metadata": {
        "colab": {
          "base_uri": "https://localhost:8080/",
          "height": 0
        },
        "id": "LT5q6iMEvhW9",
        "outputId": "78482572-bbed-405a-b853-aad534dc282e"
      },
      "execution_count": 22,
      "outputs": [
        {
          "output_type": "execute_result",
          "data": {
            "text/plain": [
              "tensor([[[0.3670, 0.3849, 0.7128,  ..., 0.7659, 0.5533, 0.3993],\n",
              "         [0.3849, 0.7625, 0.0222,  ..., 0.0487, 0.8327, 0.2431],\n",
              "         [0.1262, 0.9219, 0.1035,  ..., 0.3526, 0.0662, 0.5358],\n",
              "         ...,\n",
              "         [0.2698, 0.8070, 0.2560,  ..., 0.0771, 0.4914, 0.1026],\n",
              "         [0.4163, 0.1472, 0.6592,  ..., 0.1088, 0.3925, 0.7766],\n",
              "         [0.7420, 0.0616, 0.3579,  ..., 0.0661, 0.2513, 0.3340]],\n",
              "\n",
              "        [[0.4294, 0.3467, 0.1538,  ..., 0.3395, 0.3477, 0.4456],\n",
              "         [0.0685, 0.5346, 0.6238,  ..., 0.4994, 0.2978, 0.1885],\n",
              "         [0.1897, 0.1930, 0.2513,  ..., 0.4904, 0.1209, 0.9144],\n",
              "         ...,\n",
              "         [0.0246, 0.9686, 0.6264,  ..., 0.0577, 0.5235, 0.0133],\n",
              "         [0.3263, 0.3558, 0.9170,  ..., 0.5186, 0.8129, 0.3116],\n",
              "         [0.0984, 0.5470, 0.3411,  ..., 0.8207, 0.1965, 0.7161]],\n",
              "\n",
              "        [[0.5125, 0.0393, 0.8017,  ..., 0.2089, 0.4658, 0.2983],\n",
              "         [0.9459, 0.9630, 0.1058,  ..., 0.4171, 0.7516, 0.1078],\n",
              "         [0.4974, 0.2583, 0.3418,  ..., 0.1859, 0.5374, 0.4343],\n",
              "         ...,\n",
              "         [0.3321, 0.0899, 0.6177,  ..., 0.4713, 0.2148, 0.1554],\n",
              "         [0.5988, 0.3198, 0.1706,  ..., 0.2864, 0.6363, 0.0812],\n",
              "         [0.0500, 0.6836, 0.1695,  ..., 0.1753, 0.2148, 0.1440]]])"
            ]
          },
          "metadata": {},
          "execution_count": 22
        }
      ]
    },
    {
      "cell_type": "code",
      "source": [
        "support_mask = torch.randint(0, 2, (1, 224, 224))  # Binary mask [1, H, W]\n",
        "support_mask.shape"
      ],
      "metadata": {
        "colab": {
          "base_uri": "https://localhost:8080/",
          "height": 0
        },
        "id": "HPNvDd2rvlpJ",
        "outputId": "bc46e536-6809-493b-a40b-3b8a8b1d7415"
      },
      "execution_count": 34,
      "outputs": [
        {
          "output_type": "execute_result",
          "data": {
            "text/plain": [
              "torch.Size([1, 224, 224])"
            ]
          },
          "metadata": {},
          "execution_count": 34
        }
      ]
    },
    {
      "cell_type": "code",
      "source": [
        "support_mask"
      ],
      "metadata": {
        "colab": {
          "base_uri": "https://localhost:8080/",
          "height": 0
        },
        "id": "mqeSVBz6xWQl",
        "outputId": "1f1c8b6a-fb17-460b-cd39-d527b8fd3116"
      },
      "execution_count": 35,
      "outputs": [
        {
          "output_type": "execute_result",
          "data": {
            "text/plain": [
              "tensor([[[1, 1, 0,  ..., 1, 1, 0],\n",
              "         [1, 1, 1,  ..., 0, 0, 1],\n",
              "         [0, 1, 1,  ..., 1, 1, 0],\n",
              "         ...,\n",
              "         [1, 0, 0,  ..., 1, 1, 1],\n",
              "         [1, 0, 1,  ..., 0, 1, 0],\n",
              "         [0, 0, 0,  ..., 1, 1, 0]]])"
            ]
          },
          "metadata": {},
          "execution_count": 35
        }
      ]
    },
    {
      "cell_type": "code",
      "source": [
        "query = torch.rand(3, 224, 224)          # Query image [3, H, W]\n",
        "query"
      ],
      "metadata": {
        "colab": {
          "base_uri": "https://localhost:8080/",
          "height": 0
        },
        "id": "2G0re8ljvpBi",
        "outputId": "24c15c1f-761d-4fa5-ca94-9753543199b8"
      },
      "execution_count": 26,
      "outputs": [
        {
          "output_type": "execute_result",
          "data": {
            "text/plain": [
              "tensor([[[0.0430, 0.8777, 0.0042,  ..., 0.1638, 0.8323, 0.1562],\n",
              "         [0.2690, 0.7867, 0.2250,  ..., 0.6713, 0.8562, 0.3493],\n",
              "         [0.0455, 0.2147, 0.0109,  ..., 0.6151, 0.9197, 0.7255],\n",
              "         ...,\n",
              "         [0.4520, 0.5346, 0.4406,  ..., 0.7609, 0.2873, 0.4830],\n",
              "         [0.3681, 0.9333, 0.7410,  ..., 0.4409, 0.0230, 0.2316],\n",
              "         [0.2725, 0.9238, 0.0199,  ..., 0.2023, 0.2799, 0.4686]],\n",
              "\n",
              "        [[0.6356, 0.1745, 0.2270,  ..., 0.8341, 0.8386, 0.6553],\n",
              "         [0.2917, 0.2804, 0.7019,  ..., 0.5003, 0.9735, 0.2310],\n",
              "         [0.8166, 0.9810, 0.9251,  ..., 0.0575, 0.8422, 0.5844],\n",
              "         ...,\n",
              "         [0.4433, 0.5148, 0.7845,  ..., 0.8362, 0.4182, 0.9804],\n",
              "         [0.1572, 0.1343, 0.3693,  ..., 0.6557, 0.8095, 0.9231],\n",
              "         [0.6006, 0.3899, 0.1949,  ..., 0.6105, 0.0997, 0.9996]],\n",
              "\n",
              "        [[0.2525, 0.8038, 0.6728,  ..., 0.5831, 0.9798, 0.6096],\n",
              "         [0.2751, 0.9170, 0.0024,  ..., 0.3646, 0.0625, 0.3939],\n",
              "         [0.7845, 0.0049, 0.1088,  ..., 0.6697, 0.8564, 0.7798],\n",
              "         ...,\n",
              "         [0.0662, 0.8452, 0.5990,  ..., 0.7187, 0.6497, 0.0168],\n",
              "         [0.4558, 0.5332, 0.5289,  ..., 0.2851, 0.5514, 0.0845],\n",
              "         [0.1198, 0.3608, 0.6885,  ..., 0.3904, 0.1955, 0.4449]]])"
            ]
          },
          "metadata": {},
          "execution_count": 26
        }
      ]
    },
    {
      "cell_type": "code",
      "source": [
        "query_mask = torch.randint(0, 2, (1, 224, 224))\n",
        "query_mask"
      ],
      "metadata": {
        "colab": {
          "base_uri": "https://localhost:8080/",
          "height": 0
        },
        "id": "myv8LPvfvrs4",
        "outputId": "a18b6e39-d52b-4c1d-e572-c8c6954b147a"
      },
      "execution_count": 27,
      "outputs": [
        {
          "output_type": "execute_result",
          "data": {
            "text/plain": [
              "tensor([[[1, 0, 0,  ..., 0, 0, 1],\n",
              "         [1, 0, 1,  ..., 1, 1, 1],\n",
              "         [0, 1, 0,  ..., 0, 0, 0],\n",
              "         ...,\n",
              "         [1, 1, 0,  ..., 0, 0, 0],\n",
              "         [0, 0, 1,  ..., 1, 0, 0],\n",
              "         [0, 0, 0,  ..., 0, 1, 0]]])"
            ]
          },
          "metadata": {},
          "execution_count": 27
        }
      ]
    },
    {
      "cell_type": "code",
      "source": [
        "#Feature Extractor\n",
        "resnet = models.resnet18(weights=None)\n",
        "backbone = torch.nn.Sequential(*list(resnet.children())[:5])  # Output: [64, 56, 56]\n",
        "backbone"
      ],
      "metadata": {
        "colab": {
          "base_uri": "https://localhost:8080/",
          "height": 0
        },
        "id": "Mk966li6vUq5",
        "outputId": "24d14231-84fc-4488-b3de-c1ae92a7a976"
      },
      "execution_count": 36,
      "outputs": [
        {
          "output_type": "execute_result",
          "data": {
            "text/plain": [
              "Sequential(\n",
              "  (0): Conv2d(3, 64, kernel_size=(7, 7), stride=(2, 2), padding=(3, 3), bias=False)\n",
              "  (1): BatchNorm2d(64, eps=1e-05, momentum=0.1, affine=True, track_running_stats=True)\n",
              "  (2): ReLU(inplace=True)\n",
              "  (3): MaxPool2d(kernel_size=3, stride=2, padding=1, dilation=1, ceil_mode=False)\n",
              "  (4): Sequential(\n",
              "    (0): BasicBlock(\n",
              "      (conv1): Conv2d(64, 64, kernel_size=(3, 3), stride=(1, 1), padding=(1, 1), bias=False)\n",
              "      (bn1): BatchNorm2d(64, eps=1e-05, momentum=0.1, affine=True, track_running_stats=True)\n",
              "      (relu): ReLU(inplace=True)\n",
              "      (conv2): Conv2d(64, 64, kernel_size=(3, 3), stride=(1, 1), padding=(1, 1), bias=False)\n",
              "      (bn2): BatchNorm2d(64, eps=1e-05, momentum=0.1, affine=True, track_running_stats=True)\n",
              "    )\n",
              "    (1): BasicBlock(\n",
              "      (conv1): Conv2d(64, 64, kernel_size=(3, 3), stride=(1, 1), padding=(1, 1), bias=False)\n",
              "      (bn1): BatchNorm2d(64, eps=1e-05, momentum=0.1, affine=True, track_running_stats=True)\n",
              "      (relu): ReLU(inplace=True)\n",
              "      (conv2): Conv2d(64, 64, kernel_size=(3, 3), stride=(1, 1), padding=(1, 1), bias=False)\n",
              "      (bn2): BatchNorm2d(64, eps=1e-05, momentum=0.1, affine=True, track_running_stats=True)\n",
              "    )\n",
              "  )\n",
              ")"
            ]
          },
          "metadata": {},
          "execution_count": 36
        }
      ]
    },
    {
      "cell_type": "code",
      "source": [
        "support_feat = backbone(support.unsqueeze(0))  # [1, 64, 56, 56]\n",
        "query_feat = backbone(query.unsqueeze(0))      # [1, 64, 56, 56]"
      ],
      "metadata": {
        "id": "1Mz62Ph0xrW6"
      },
      "execution_count": null,
      "outputs": []
    },
    {
      "cell_type": "code",
      "source": [
        "# Downsample the mask dimension to match feature map\n",
        "support_mask_ds = F.interpolate(support_mask.unsqueeze(0).float(), size=(56, 56), mode='nearest')  # [1, 1, 56, 56]"
      ],
      "metadata": {
        "id": "5yvjp2o7vWFe"
      },
      "execution_count": 37,
      "outputs": []
    },
    {
      "cell_type": "code",
      "source": [
        "#Prototype  (Coloured plane in feature space)\n",
        "masked_feat = support_feat * support_mask_ds       # [1, 64, 56, 56]\n",
        "proto = masked_feat.sum(dim=(2, 3)) / (support_mask_ds.sum() + 1e-5)  # [1, 64] prototype vector"
      ],
      "metadata": {
        "id": "_gyNcvpVvXVY"
      },
      "execution_count": 38,
      "outputs": []
    },
    {
      "cell_type": "code",
      "source": [
        "#Compute Cosine Similarity with Query Feature\n",
        "q = query_feat.squeeze(0)         # [64, 56, 56]\n",
        "q_flat = q.view(64, -1)           # [64, 3136]\n",
        "q_norm = F.normalize(q_flat, dim=0)  # [64, 3136]\n",
        "p_norm = F.normalize(proto.squeeze(0), dim=0).unsqueeze(1)  # [64, 1]\n",
        "cos_sim = torch.matmul(p_norm.t(), q_norm).view(56, 56)     # [56, 56]"
      ],
      "metadata": {
        "id": "wR4w3iV6vY2h"
      },
      "execution_count": null,
      "outputs": []
    },
    {
      "cell_type": "code",
      "source": [
        "cos_sim.shape"
      ],
      "metadata": {
        "colab": {
          "base_uri": "https://localhost:8080/",
          "height": 0
        },
        "id": "RjzQu2oTuE9C",
        "outputId": "f0595207-61ac-44d1-9723-b3f704f7e671"
      },
      "execution_count": 39,
      "outputs": [
        {
          "output_type": "execute_result",
          "data": {
            "text/plain": [
              "torch.Size([56, 56])"
            ]
          },
          "metadata": {},
          "execution_count": 39
        }
      ]
    },
    {
      "cell_type": "code",
      "source": [
        "cos_sim_upsampled = F.interpolate(cos_sim.unsqueeze(0).unsqueeze(0), size=(224, 224))"
      ],
      "metadata": {
        "id": "22KB1BJ2vPvE"
      },
      "execution_count": 64,
      "outputs": []
    },
    {
      "cell_type": "code",
      "source": [
        "cos_sim_upsampled.shape"
      ],
      "metadata": {
        "colab": {
          "base_uri": "https://localhost:8080/"
        },
        "id": "9r2aIpzN0g7D",
        "outputId": "0ff37ea1-95ec-4892-a172-f6bfe39c6978"
      },
      "execution_count": 65,
      "outputs": [
        {
          "output_type": "execute_result",
          "data": {
            "text/plain": [
              "torch.Size([1, 1, 224, 224])"
            ]
          },
          "metadata": {},
          "execution_count": 65
        }
      ]
    },
    {
      "cell_type": "code",
      "source": [
        "cos_sim_upsampled"
      ],
      "metadata": {
        "colab": {
          "base_uri": "https://localhost:8080/"
        },
        "id": "tSedIhtLzQzv",
        "outputId": "6ff6fada-affe-432b-b7f5-f4f695909b73"
      },
      "execution_count": 66,
      "outputs": [
        {
          "output_type": "execute_result",
          "data": {
            "text/plain": [
              "tensor([[[[0.6996, 0.6996, 0.6996,  ..., 0.7142, 0.7142, 0.7142],\n",
              "          [0.6996, 0.6996, 0.6996,  ..., 0.7142, 0.7142, 0.7142],\n",
              "          [0.6996, 0.6996, 0.6996,  ..., 0.7142, 0.7142, 0.7142],\n",
              "          ...,\n",
              "          [0.6778, 0.6778, 0.6778,  ..., 0.7713, 0.7713, 0.7713],\n",
              "          [0.6778, 0.6778, 0.6778,  ..., 0.7713, 0.7713, 0.7713],\n",
              "          [0.6778, 0.6778, 0.6778,  ..., 0.7713, 0.7713, 0.7713]]]],\n",
              "       grad_fn=<UpsampleNearest2DBackward0>)"
            ]
          },
          "metadata": {},
          "execution_count": 66
        }
      ]
    },
    {
      "cell_type": "markdown",
      "source": [
        "#### mask prediction"
      ],
      "metadata": {
        "id": "lvgN3A980YTP"
      }
    },
    {
      "cell_type": "code",
      "source": [
        "# Decoder\n",
        "decoder = torch.nn.Sequential(\n",
        "    torch.nn.Conv2d(1, 16, 3, padding=1),  # [1, 224, 224] -> [16, 224, 224]\n",
        "    torch.nn.ReLU(),\n",
        "    torch.nn.Conv2d(16, 1, 1)              # [16, 224, 224] -> [1, 224, 224]\n",
        ")"
      ],
      "metadata": {
        "id": "ZNwGHAzMz8q8"
      },
      "execution_count": 67,
      "outputs": []
    },
    {
      "cell_type": "code",
      "source": [
        "output = decoder(cos_sim_upsampled)        # Shape: [1, 1, 224, 224]\n",
        "output_sigmoid = torch.sigmoid(output)     # [1, 1, 224, 224]\n",
        "pred_mask = (output_sigmoid > 0.5).float() # Binary mask: [1, 1, 224, 224]"
      ],
      "metadata": {
        "id": "iDVOjh1S0cwl"
      },
      "execution_count": 68,
      "outputs": []
    },
    {
      "cell_type": "code",
      "source": [
        "pred_mask"
      ],
      "metadata": {
        "colab": {
          "base_uri": "https://localhost:8080/"
        },
        "id": "tKUfvyN-0HDc",
        "outputId": "b7825e6b-6edf-4e38-e7e7-429f72ca56e6"
      },
      "execution_count": 69,
      "outputs": [
        {
          "output_type": "execute_result",
          "data": {
            "text/plain": [
              "tensor([[[[1., 1., 1.,  ..., 1., 1., 1.],\n",
              "          [1., 1., 1.,  ..., 1., 1., 1.],\n",
              "          [1., 1., 1.,  ..., 1., 1., 1.],\n",
              "          ...,\n",
              "          [1., 1., 1.,  ..., 1., 1., 1.],\n",
              "          [1., 1., 1.,  ..., 1., 1., 1.],\n",
              "          [1., 1., 1.,  ..., 1., 1., 1.]]]])"
            ]
          },
          "metadata": {},
          "execution_count": 69
        }
      ]
    },
    {
      "cell_type": "code",
      "source": [],
      "metadata": {
        "id": "_bSRK3aN3o3Z"
      },
      "execution_count": null,
      "outputs": []
    }
  ]
}