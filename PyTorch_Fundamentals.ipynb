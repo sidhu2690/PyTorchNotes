{
  "nbformat": 4,
  "nbformat_minor": 0,
  "metadata": {
    "colab": {
      "provenance": [],
      "authorship_tag": "ABX9TyOp9tlDbur6eBFLtAP6J/pH",
      "include_colab_link": true
    },
    "kernelspec": {
      "name": "python3",
      "display_name": "Python 3"
    },
    "language_info": {
      "name": "python"
    }
  },
  "cells": [
    {
      "cell_type": "markdown",
      "metadata": {
        "id": "view-in-github",
        "colab_type": "text"
      },
      "source": [
        "<a href=\"https://colab.research.google.com/github/sidhu2690/CogniXis/blob/main/PyTorch_Fundamentals.ipynb\" target=\"_parent\"><img src=\"https://colab.research.google.com/assets/colab-badge.svg\" alt=\"Open In Colab\"/></a>"
      ]
    },
    {
      "cell_type": "code",
      "execution_count": 1,
      "metadata": {
        "id": "-M39pdN33XW4"
      },
      "outputs": [],
      "source": [
        "import torch"
      ]
    },
    {
      "cell_type": "code",
      "source": [
        "print(torch.__version__)"
      ],
      "metadata": {
        "colab": {
          "base_uri": "https://localhost:8080/"
        },
        "id": "K6iuBAta6II0",
        "outputId": "143e447d-bff7-47e5-9d02-66064fb31909"
      },
      "execution_count": 2,
      "outputs": [
        {
          "output_type": "stream",
          "name": "stdout",
          "text": [
            "2.5.1+cu121\n"
          ]
        }
      ]
    },
    {
      "cell_type": "markdown",
      "source": [
        "## Scalars in torch"
      ],
      "metadata": {
        "id": "IPbd_QCH6RjM"
      }
    },
    {
      "cell_type": "code",
      "source": [
        "torch.tensor(1)"
      ],
      "metadata": {
        "colab": {
          "base_uri": "https://localhost:8080/"
        },
        "id": "hs4zcBAc6MIS",
        "outputId": "e6599a5b-d9ad-4bd1-cd61-75fecbbe509e"
      },
      "execution_count": 3,
      "outputs": [
        {
          "output_type": "execute_result",
          "data": {
            "text/plain": [
              "tensor(1)"
            ]
          },
          "metadata": {},
          "execution_count": 3
        }
      ]
    },
    {
      "cell_type": "code",
      "source": [
        "torch.tensor(1).shape"
      ],
      "metadata": {
        "colab": {
          "base_uri": "https://localhost:8080/"
        },
        "id": "zJFoB9ik6ZFf",
        "outputId": "4eb49598-99c2-4766-c503-7a727f0cfb95"
      },
      "execution_count": 6,
      "outputs": [
        {
          "output_type": "execute_result",
          "data": {
            "text/plain": [
              "torch.Size([])"
            ]
          },
          "metadata": {},
          "execution_count": 6
        }
      ]
    },
    {
      "cell_type": "markdown",
      "source": [
        "Since there is no dimensions it is called scalars"
      ],
      "metadata": {
        "id": "Kavjz0Km6ikT"
      }
    },
    {
      "cell_type": "markdown",
      "source": [
        "## Vectors in torch"
      ],
      "metadata": {
        "id": "5Uo6JkBJ6o74"
      }
    },
    {
      "cell_type": "code",
      "source": [
        "torch.tensor([1,2,3])"
      ],
      "metadata": {
        "colab": {
          "base_uri": "https://localhost:8080/"
        },
        "id": "gKbN2RpZ6cgQ",
        "outputId": "9c9ede5a-320a-473b-ff9a-705ffece4117"
      },
      "execution_count": 7,
      "outputs": [
        {
          "output_type": "execute_result",
          "data": {
            "text/plain": [
              "tensor([1, 2, 3])"
            ]
          },
          "metadata": {},
          "execution_count": 7
        }
      ]
    },
    {
      "cell_type": "code",
      "source": [
        "torch.tensor([1,2,3]).size()"
      ],
      "metadata": {
        "colab": {
          "base_uri": "https://localhost:8080/"
        },
        "id": "dVFqIIHY6tpW",
        "outputId": "d6355447-cf2d-4c8a-ef7a-63f5a8c778dd"
      },
      "execution_count": 12,
      "outputs": [
        {
          "output_type": "execute_result",
          "data": {
            "text/plain": [
              "torch.Size([3])"
            ]
          },
          "metadata": {},
          "execution_count": 12
        }
      ]
    },
    {
      "cell_type": "code",
      "source": [
        "torch.tensor([1,2,3]).ndim"
      ],
      "metadata": {
        "colab": {
          "base_uri": "https://localhost:8080/"
        },
        "id": "t-rIWFP19nMr",
        "outputId": "9a62573c-5807-4d1a-9908-c2549062f174"
      },
      "execution_count": 31,
      "outputs": [
        {
          "output_type": "execute_result",
          "data": {
            "text/plain": [
              "1"
            ]
          },
          "metadata": {},
          "execution_count": 31
        }
      ]
    },
    {
      "cell_type": "markdown",
      "source": [
        "As you can see here, there is only one dimension (or simply one row).  \n",
        "The number of dimensions can be simply understood by the number of braces.  \n",
        "You can also use the function `ndim` to find the dimension of any tensor.\n"
      ],
      "metadata": {
        "id": "vBnFZEpM7Bli"
      }
    },
    {
      "cell_type": "markdown",
      "source": [
        "## Matrices or Tensors"
      ],
      "metadata": {
        "id": "cT0jzZP_7hO4"
      }
    },
    {
      "cell_type": "code",
      "source": [
        "a= torch.tensor([[1,2,3],\n",
        "              [4,5,6]])"
      ],
      "metadata": {
        "id": "vJXK7EN46xUw"
      },
      "execution_count": 14,
      "outputs": []
    },
    {
      "cell_type": "code",
      "source": [
        "a"
      ],
      "metadata": {
        "colab": {
          "base_uri": "https://localhost:8080/"
        },
        "id": "ZyIbWwXs7x64",
        "outputId": "c1106b39-093a-4547-f628-6fc2a43b66cd"
      },
      "execution_count": 15,
      "outputs": [
        {
          "output_type": "execute_result",
          "data": {
            "text/plain": [
              "tensor([[1, 2, 3],\n",
              "        [4, 5, 6]])"
            ]
          },
          "metadata": {},
          "execution_count": 15
        }
      ]
    },
    {
      "cell_type": "code",
      "source": [
        "a.shape"
      ],
      "metadata": {
        "colab": {
          "base_uri": "https://localhost:8080/"
        },
        "id": "gqYH5ObD7sur",
        "outputId": "e1f82ce2-a982-452e-eddd-1e82af9eff09"
      },
      "execution_count": 16,
      "outputs": [
        {
          "output_type": "execute_result",
          "data": {
            "text/plain": [
              "torch.Size([2, 3])"
            ]
          },
          "metadata": {},
          "execution_count": 16
        }
      ]
    },
    {
      "cell_type": "code",
      "source": [
        "a.ndim"
      ],
      "metadata": {
        "colab": {
          "base_uri": "https://localhost:8080/"
        },
        "id": "aDLq2mEh9shZ",
        "outputId": "752fbb41-8661-4c6a-90b5-9e1db3624131"
      },
      "execution_count": 32,
      "outputs": [
        {
          "output_type": "execute_result",
          "data": {
            "text/plain": [
              "2"
            ]
          },
          "metadata": {},
          "execution_count": 32
        }
      ]
    },
    {
      "cell_type": "markdown",
      "source": [
        "This means that this will produce a matrix/tensor of shape 2 by 3 (2 rows and 3 columns).  \n",
        "For higher dimensions, we will have a higher number of braces.\n"
      ],
      "metadata": {
        "id": "U3z8O86q71Pl"
      }
    },
    {
      "cell_type": "markdown",
      "source": [
        "Now, we can learn some functions in Torch and how to use them."
      ],
      "metadata": {
        "id": "GqtQYDqT8LNP"
      }
    },
    {
      "cell_type": "code",
      "source": [
        "torch.rand(3,4), \"\", torch.randn(3,4)"
      ],
      "metadata": {
        "colab": {
          "base_uri": "https://localhost:8080/"
        },
        "id": "a9pO_8oK7zY2",
        "outputId": "b381f51a-c407-4b91-be6b-83d4b7bfdd8f"
      },
      "execution_count": 25,
      "outputs": [
        {
          "output_type": "execute_result",
          "data": {
            "text/plain": [
              "(tensor([[0.5925, 0.2693, 0.2281, 0.4266],\n",
              "         [0.1266, 0.5549, 0.7434, 0.8510],\n",
              "         [0.4577, 0.6621, 0.9934, 0.0978]]),\n",
              " '',\n",
              " tensor([[ 0.4807, -1.1407, -0.1454, -2.3451],\n",
              "         [ 0.1992, -0.8318, -1.8336,  0.4050],\n",
              "         [-1.6917, -0.5209,  0.5799,  1.8670]]))"
            ]
          },
          "metadata": {},
          "execution_count": 25
        }
      ]
    },
    {
      "cell_type": "code",
      "source": [
        "torch.rand(3,4).shape"
      ],
      "metadata": {
        "colab": {
          "base_uri": "https://localhost:8080/"
        },
        "id": "0y4LVbD88Wzh",
        "outputId": "e50c4d11-1e20-4c49-c4c4-0a747e59b6ba"
      },
      "execution_count": 26,
      "outputs": [
        {
          "output_type": "execute_result",
          "data": {
            "text/plain": [
              "torch.Size([3, 4])"
            ]
          },
          "metadata": {},
          "execution_count": 26
        }
      ]
    },
    {
      "cell_type": "code",
      "source": [
        "torch.randn(3,4, dtype=torch.float32)"
      ],
      "metadata": {
        "colab": {
          "base_uri": "https://localhost:8080/"
        },
        "id": "LsePKMsz8Z-Q",
        "outputId": "1de8f54a-dffd-4eb3-8b95-4ff8460e4dfc"
      },
      "execution_count": 28,
      "outputs": [
        {
          "output_type": "execute_result",
          "data": {
            "text/plain": [
              "torch.float32"
            ]
          },
          "metadata": {},
          "execution_count": 28
        }
      ]
    },
    {
      "cell_type": "code",
      "source": [
        "torch.randn(3,4).dtype"
      ],
      "metadata": {
        "colab": {
          "base_uri": "https://localhost:8080/"
        },
        "id": "sNXDsTM39HbB",
        "outputId": "d4ed0618-040a-463c-af96-7e0b80a6325e"
      },
      "execution_count": 29,
      "outputs": [
        {
          "output_type": "execute_result",
          "data": {
            "text/plain": [
              "torch.float32"
            ]
          },
          "metadata": {},
          "execution_count": 29
        }
      ]
    },
    {
      "cell_type": "markdown",
      "source": [
        "Using the function `dtype`, you can find the data type of the tensor.  \n",
        "Additionally, you can specify and change it.\n"
      ],
      "metadata": {
        "id": "0l94nr7H82Iv"
      }
    },
    {
      "cell_type": "markdown",
      "source": [
        "### Some Functions in Torch"
      ],
      "metadata": {
        "id": "4E70BM5t93Mt"
      }
    },
    {
      "cell_type": "code",
      "source": [
        "torch.tensor(5).item()"
      ],
      "metadata": {
        "colab": {
          "base_uri": "https://localhost:8080/"
        },
        "id": "L8GdiUSb8e8w",
        "outputId": "88dba6bd-cd4d-48a6-d181-3e41f9a6838c"
      },
      "execution_count": 30,
      "outputs": [
        {
          "output_type": "execute_result",
          "data": {
            "text/plain": [
              "5"
            ]
          },
          "metadata": {},
          "execution_count": 30
        }
      ]
    },
    {
      "cell_type": "code",
      "source": [
        "torch.zeros(3, 4)"
      ],
      "metadata": {
        "colab": {
          "base_uri": "https://localhost:8080/"
        },
        "id": "L_ctoP9v9WSE",
        "outputId": "bdbebfdf-6937-4928-bc89-1b5e1fddab00"
      },
      "execution_count": 37,
      "outputs": [
        {
          "output_type": "execute_result",
          "data": {
            "text/plain": [
              "tensor([[0., 0., 0., 0.],\n",
              "        [0., 0., 0., 0.],\n",
              "        [0., 0., 0., 0.]])"
            ]
          },
          "metadata": {},
          "execution_count": 37
        }
      ]
    },
    {
      "cell_type": "code",
      "source": [
        "torch.zeros_like(input=torch.randn(4, 5))"
      ],
      "metadata": {
        "colab": {
          "base_uri": "https://localhost:8080/"
        },
        "id": "1V77PZfx91Kk",
        "outputId": "deda020a-acc2-4c87-9a89-a93889950df6"
      },
      "execution_count": 38,
      "outputs": [
        {
          "output_type": "execute_result",
          "data": {
            "text/plain": [
              "tensor([[0., 0., 0., 0., 0.],\n",
              "        [0., 0., 0., 0., 0.],\n",
              "        [0., 0., 0., 0., 0.],\n",
              "        [0., 0., 0., 0., 0.]])"
            ]
          },
          "metadata": {},
          "execution_count": 38
        }
      ]
    },
    {
      "cell_type": "code",
      "source": [
        "torch.ones(2, 3)"
      ],
      "metadata": {
        "colab": {
          "base_uri": "https://localhost:8080/"
        },
        "id": "5ejGAYOk-DI1",
        "outputId": "f03caaf7-efaf-4b25-e4b7-c526e6ff9432"
      },
      "execution_count": 39,
      "outputs": [
        {
          "output_type": "execute_result",
          "data": {
            "text/plain": [
              "tensor([[1., 1., 1.],\n",
              "        [1., 1., 1.]])"
            ]
          },
          "metadata": {},
          "execution_count": 39
        }
      ]
    },
    {
      "cell_type": "code",
      "source": [
        "torch.ones_like(torch.randn(3,2))"
      ],
      "metadata": {
        "colab": {
          "base_uri": "https://localhost:8080/"
        },
        "id": "POAqq020-ZOK",
        "outputId": "4cdf5573-4502-42b7-ba1f-2c716d569ed0"
      },
      "execution_count": 40,
      "outputs": [
        {
          "output_type": "execute_result",
          "data": {
            "text/plain": [
              "tensor([[1., 1.],\n",
              "        [1., 1.],\n",
              "        [1., 1.]])"
            ]
          },
          "metadata": {},
          "execution_count": 40
        }
      ]
    },
    {
      "cell_type": "code",
      "source": [
        "torch.arange(1,10), torch.arange(1, 30, 3)"
      ],
      "metadata": {
        "colab": {
          "base_uri": "https://localhost:8080/"
        },
        "id": "4fCWF6dn-cSq",
        "outputId": "5c6a9b62-9cb3-43a4-a2fe-a56d163a5436"
      },
      "execution_count": 43,
      "outputs": [
        {
          "output_type": "execute_result",
          "data": {
            "text/plain": [
              "(tensor([1, 2, 3, 4, 5, 6, 7, 8, 9]),\n",
              " tensor([ 1,  4,  7, 10, 13, 16, 19, 22, 25, 28]))"
            ]
          },
          "metadata": {},
          "execution_count": 43
        }
      ]
    },
    {
      "cell_type": "markdown",
      "source": [
        "### Some important operations in torch"
      ],
      "metadata": {
        "id": "A3x2oCcg-zeZ"
      }
    },
    {
      "cell_type": "code",
      "source": [
        "A= torch.tensor([1,2,3,4,5])"
      ],
      "metadata": {
        "id": "o27DqrnN-hBv"
      },
      "execution_count": 46,
      "outputs": []
    },
    {
      "cell_type": "code",
      "source": [
        "torch.mul(A, 5)"
      ],
      "metadata": {
        "colab": {
          "base_uri": "https://localhost:8080/"
        },
        "id": "J1k-locr--6e",
        "outputId": "ec07d40e-92f3-4a9d-aab4-9a4390dd06ce"
      },
      "execution_count": 47,
      "outputs": [
        {
          "output_type": "execute_result",
          "data": {
            "text/plain": [
              "tensor([ 5, 10, 15, 20, 25])"
            ]
          },
          "metadata": {},
          "execution_count": 47
        }
      ]
    },
    {
      "cell_type": "code",
      "source": [
        "torch.add(A, 10)"
      ],
      "metadata": {
        "colab": {
          "base_uri": "https://localhost:8080/"
        },
        "id": "EoBfamRm_G9e",
        "outputId": "c27835ff-94c1-440b-f174-f89d8c460e65"
      },
      "execution_count": 48,
      "outputs": [
        {
          "output_type": "execute_result",
          "data": {
            "text/plain": [
              "tensor([11, 12, 13, 14, 15])"
            ]
          },
          "metadata": {},
          "execution_count": 48
        }
      ]
    },
    {
      "cell_type": "code",
      "source": [
        "B, C = torch.randn(3,4), torch.randn(4,5) # The result of the matrix multiplication should have a shape of (3, 5) since (3, 4) @ (4, 5) ---> (3, 5)"
      ],
      "metadata": {
        "id": "8WgsRwpE_MLI"
      },
      "execution_count": 50,
      "outputs": []
    },
    {
      "cell_type": "code",
      "source": [
        "B @ C"
      ],
      "metadata": {
        "colab": {
          "base_uri": "https://localhost:8080/"
        },
        "id": "dQ0QX2Ii_Pi1",
        "outputId": "1ca958ac-d03b-4e9f-d013-39494f708680"
      },
      "execution_count": 51,
      "outputs": [
        {
          "output_type": "execute_result",
          "data": {
            "text/plain": [
              "tensor([[-2.9730, -0.8151,  0.1334, -2.1501, -0.6281],\n",
              "        [-3.4214,  0.7609,  0.1306,  2.1011,  1.0495],\n",
              "        [-1.7720,  0.7600,  0.9274,  2.7255,  1.2716]])"
            ]
          },
          "metadata": {},
          "execution_count": 51
        }
      ]
    },
    {
      "cell_type": "code",
      "source": [
        "torch.matmul(B,C)"
      ],
      "metadata": {
        "colab": {
          "base_uri": "https://localhost:8080/"
        },
        "id": "cR_ILqRR_uUQ",
        "outputId": "8a48f8d0-8b3d-4f11-d80d-2037f5ce38a6"
      },
      "execution_count": 52,
      "outputs": [
        {
          "output_type": "execute_result",
          "data": {
            "text/plain": [
              "tensor([[-2.9730, -0.8151,  0.1334, -2.1501, -0.6281],\n",
              "        [-3.4214,  0.7609,  0.1306,  2.1011,  1.0495],\n",
              "        [-1.7720,  0.7600,  0.9274,  2.7255,  1.2716]])"
            ]
          },
          "metadata": {},
          "execution_count": 52
        }
      ]
    },
    {
      "cell_type": "markdown",
      "source": [
        "Both `torch.matmul` and `@` will perform the same matrix multiplication."
      ],
      "metadata": {
        "id": "l-8xR0Kh_zlZ"
      }
    },
    {
      "cell_type": "code",
      "source": [
        "D= torch.tensor([[1,2,3],\n",
        "              [4,5,6]])\n",
        "D, \"\", D.T"
      ],
      "metadata": {
        "colab": {
          "base_uri": "https://localhost:8080/"
        },
        "id": "ftJoeJQv_xSt",
        "outputId": "8ba07153-6059-43c8-ae23-08def5372253"
      },
      "execution_count": 54,
      "outputs": [
        {
          "output_type": "execute_result",
          "data": {
            "text/plain": [
              "(tensor([[1, 2, 3],\n",
              "         [4, 5, 6]]),\n",
              " '',\n",
              " tensor([[1, 4],\n",
              "         [2, 5],\n",
              "         [3, 6]]))"
            ]
          },
          "metadata": {},
          "execution_count": 54
        }
      ]
    },
    {
      "cell_type": "code",
      "source": [
        "torch.min(D)"
      ],
      "metadata": {
        "colab": {
          "base_uri": "https://localhost:8080/"
        },
        "id": "wS96vzidARQr",
        "outputId": "2400ee9c-4c26-4a3f-d5c9-a35c065df79c"
      },
      "execution_count": 55,
      "outputs": [
        {
          "output_type": "execute_result",
          "data": {
            "text/plain": [
              "tensor(1)"
            ]
          },
          "metadata": {},
          "execution_count": 55
        }
      ]
    },
    {
      "cell_type": "code",
      "source": [
        "torch.max(D)"
      ],
      "metadata": {
        "colab": {
          "base_uri": "https://localhost:8080/"
        },
        "id": "Mh9lbhXkAaTk",
        "outputId": "43aa454f-56c7-4564-9719-f3bed748455b"
      },
      "execution_count": 56,
      "outputs": [
        {
          "output_type": "execute_result",
          "data": {
            "text/plain": [
              "tensor(6)"
            ]
          },
          "metadata": {},
          "execution_count": 56
        }
      ]
    },
    {
      "cell_type": "code",
      "source": [
        "torch.mean(D, dtype=torch.float)"
      ],
      "metadata": {
        "colab": {
          "base_uri": "https://localhost:8080/"
        },
        "id": "N9HkyBWzAcB6",
        "outputId": "d493c954-867f-4358-c011-72f55af930b2"
      },
      "execution_count": 58,
      "outputs": [
        {
          "output_type": "execute_result",
          "data": {
            "text/plain": [
              "tensor(3.5000)"
            ]
          },
          "metadata": {},
          "execution_count": 58
        }
      ]
    },
    {
      "cell_type": "code",
      "source": [
        "torch.argmin(D)  # Position of the smallest element"
      ],
      "metadata": {
        "colab": {
          "base_uri": "https://localhost:8080/"
        },
        "id": "qo8r2YiBAdtK",
        "outputId": "7283f715-624b-4c36-8fc7-2aee83649ccf"
      },
      "execution_count": 59,
      "outputs": [
        {
          "output_type": "execute_result",
          "data": {
            "text/plain": [
              "tensor(0)"
            ]
          },
          "metadata": {},
          "execution_count": 59
        }
      ]
    },
    {
      "cell_type": "code",
      "source": [
        "torch.argmax(D) # Position of the largest element"
      ],
      "metadata": {
        "colab": {
          "base_uri": "https://localhost:8080/"
        },
        "id": "pyoFSwSbAqUw",
        "outputId": "0401f1de-8d29-4a18-f8aa-0d2d4efbf551"
      },
      "execution_count": 60,
      "outputs": [
        {
          "output_type": "execute_result",
          "data": {
            "text/plain": [
              "tensor(5)"
            ]
          },
          "metadata": {},
          "execution_count": 60
        }
      ]
    },
    {
      "cell_type": "code",
      "source": [
        "A= torch.randn(1,2,1,1,4)\n",
        "A.shape, A.squeeze().shape, A.unsqueeze(0).shape"
      ],
      "metadata": {
        "colab": {
          "base_uri": "https://localhost:8080/"
        },
        "id": "OfazJXk6As14",
        "outputId": "08651e71-a20a-4a3a-9d5d-dcfa18b43f6e"
      },
      "execution_count": 69,
      "outputs": [
        {
          "output_type": "execute_result",
          "data": {
            "text/plain": [
              "(torch.Size([1, 2, 1, 1, 4]),\n",
              " torch.Size([2, 4]),\n",
              " torch.Size([1, 1, 2, 1, 1, 4]))"
            ]
          },
          "metadata": {},
          "execution_count": 69
        }
      ]
    },
    {
      "cell_type": "markdown",
      "source": [
        " `Squeeze` will remove all the single dimensions, and `unsqueeze` will add an additional single dimension."
      ],
      "metadata": {
        "id": "kjY_Zlm0BtmB"
      }
    },
    {
      "cell_type": "code",
      "source": [
        "A=torch.tensor([1,2,3])\n",
        "torch.vstack([A,A,A]), \"\", torch.hstack([A,A,A])"
      ],
      "metadata": {
        "colab": {
          "base_uri": "https://localhost:8080/"
        },
        "id": "Zkm4c_FXA7_d",
        "outputId": "cdbecca2-413e-4065-df89-3c2250fc868e"
      },
      "execution_count": 78,
      "outputs": [
        {
          "output_type": "execute_result",
          "data": {
            "text/plain": [
              "(tensor([[1, 2, 3],\n",
              "         [1, 2, 3],\n",
              "         [1, 2, 3]]),\n",
              " '',\n",
              " tensor([1, 2, 3, 1, 2, 3, 1, 2, 3]))"
            ]
          },
          "metadata": {},
          "execution_count": 78
        }
      ]
    },
    {
      "cell_type": "markdown",
      "source": [
        "## Setting seed in torch"
      ],
      "metadata": {
        "id": "B61ohLGcCs_7"
      }
    },
    {
      "cell_type": "code",
      "source": [
        "torch.manual_seed(42)"
      ],
      "metadata": {
        "colab": {
          "base_uri": "https://localhost:8080/"
        },
        "id": "sjnikwfJB_yZ",
        "outputId": "22c795fb-cd85-4ac8-ef6a-e6eb63abdd16"
      },
      "execution_count": 79,
      "outputs": [
        {
          "output_type": "execute_result",
          "data": {
            "text/plain": [
              "<torch._C.Generator at 0x7fecb560ddd0>"
            ]
          },
          "metadata": {},
          "execution_count": 79
        }
      ]
    },
    {
      "cell_type": "code",
      "source": [
        "device= \"cuda\" if torch.cuda.is_available() else \"cpu\""
      ],
      "metadata": {
        "id": "cD-2pckiCx3f"
      },
      "execution_count": 80,
      "outputs": []
    }
  ]
}