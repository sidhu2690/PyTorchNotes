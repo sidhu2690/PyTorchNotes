{
  "nbformat": 4,
  "nbformat_minor": 0,
  "metadata": {
    "colab": {
      "provenance": [],
      "gpuType": "V28",
      "authorship_tag": "ABX9TyPXgfveiyLNcK1rqdIrIibe",
      "include_colab_link": true
    },
    "kernelspec": {
      "name": "python3",
      "display_name": "Python 3"
    },
    "language_info": {
      "name": "python"
    },
    "accelerator": "TPU"
  },
  "cells": [
    {
      "cell_type": "markdown",
      "metadata": {
        "id": "view-in-github",
        "colab_type": "text"
      },
      "source": [
        "<a href=\"https://colab.research.google.com/github/sidhu2690/CogniXis/blob/main/04_transfer_learning.ipynb\" target=\"_parent\"><img src=\"https://colab.research.google.com/assets/colab-badge.svg\" alt=\"Open In Colab\"/></a>"
      ]
    },
    {
      "cell_type": "code",
      "execution_count": 29,
      "metadata": {
        "id": "ByUI8LDUr2Ps"
      },
      "outputs": [],
      "source": [
        "import torch\n",
        "from torch import nn\n",
        "import torchvision\n",
        "from torchvision import transforms, datasets\n",
        "from torch.utils.data import DataLoader"
      ]
    },
    {
      "cell_type": "code",
      "source": [
        "weights= torchvision.models.EfficientNet_B0_Weights.DEFAULT\n",
        "Model=torchvision.models.efficientnet_b0(weights=weights)"
      ],
      "metadata": {
        "id": "M0z9LY8JzH70"
      },
      "execution_count": 30,
      "outputs": []
    },
    {
      "cell_type": "code",
      "source": [
        "pip install -q torchinfo"
      ],
      "metadata": {
        "id": "H7ujMYBizOeU"
      },
      "execution_count": 31,
      "outputs": []
    },
    {
      "cell_type": "code",
      "source": [
        "from torchinfo import summary"
      ],
      "metadata": {
        "id": "d6rCEgXmzSrj"
      },
      "execution_count": 32,
      "outputs": []
    },
    {
      "cell_type": "code",
      "source": [
        "summary(\n",
        "    model=Model,\n",
        "    input_size=(1, 3, 224, 224),\n",
        "    col_names=[\"input_size\", \"output_size\", \"num_params\", \"trainable\"]\n",
        ")"
      ],
      "metadata": {
        "colab": {
          "base_uri": "https://localhost:8080/"
        },
        "id": "6Uea3oetzWix",
        "outputId": "e2b1d1cb-ddb7-463a-f56d-9ab618495f23"
      },
      "execution_count": 33,
      "outputs": [
        {
          "output_type": "execute_result",
          "data": {
            "text/plain": [
              "===========================================================================================================================================================\n",
              "Layer (type:depth-idx)                                  Input Shape               Output Shape              Param #                   Trainable\n",
              "===========================================================================================================================================================\n",
              "EfficientNet                                            [1, 3, 224, 224]          [1, 1000]                 --                        True\n",
              "├─Sequential: 1-1                                       [1, 3, 224, 224]          [1, 1280, 7, 7]           --                        True\n",
              "│    └─Conv2dNormActivation: 2-1                        [1, 3, 224, 224]          [1, 32, 112, 112]         --                        True\n",
              "│    │    └─Conv2d: 3-1                                 [1, 3, 224, 224]          [1, 32, 112, 112]         864                       True\n",
              "│    │    └─BatchNorm2d: 3-2                            [1, 32, 112, 112]         [1, 32, 112, 112]         64                        True\n",
              "│    │    └─SiLU: 3-3                                   [1, 32, 112, 112]         [1, 32, 112, 112]         --                        --\n",
              "│    └─Sequential: 2-2                                  [1, 32, 112, 112]         [1, 16, 112, 112]         --                        True\n",
              "│    │    └─MBConv: 3-4                                 [1, 32, 112, 112]         [1, 16, 112, 112]         1,448                     True\n",
              "│    └─Sequential: 2-3                                  [1, 16, 112, 112]         [1, 24, 56, 56]           --                        True\n",
              "│    │    └─MBConv: 3-5                                 [1, 16, 112, 112]         [1, 24, 56, 56]           6,004                     True\n",
              "│    │    └─MBConv: 3-6                                 [1, 24, 56, 56]           [1, 24, 56, 56]           10,710                    True\n",
              "│    └─Sequential: 2-4                                  [1, 24, 56, 56]           [1, 40, 28, 28]           --                        True\n",
              "│    │    └─MBConv: 3-7                                 [1, 24, 56, 56]           [1, 40, 28, 28]           15,350                    True\n",
              "│    │    └─MBConv: 3-8                                 [1, 40, 28, 28]           [1, 40, 28, 28]           31,290                    True\n",
              "│    └─Sequential: 2-5                                  [1, 40, 28, 28]           [1, 80, 14, 14]           --                        True\n",
              "│    │    └─MBConv: 3-9                                 [1, 40, 28, 28]           [1, 80, 14, 14]           37,130                    True\n",
              "│    │    └─MBConv: 3-10                                [1, 80, 14, 14]           [1, 80, 14, 14]           102,900                   True\n",
              "│    │    └─MBConv: 3-11                                [1, 80, 14, 14]           [1, 80, 14, 14]           102,900                   True\n",
              "│    └─Sequential: 2-6                                  [1, 80, 14, 14]           [1, 112, 14, 14]          --                        True\n",
              "│    │    └─MBConv: 3-12                                [1, 80, 14, 14]           [1, 112, 14, 14]          126,004                   True\n",
              "│    │    └─MBConv: 3-13                                [1, 112, 14, 14]          [1, 112, 14, 14]          208,572                   True\n",
              "│    │    └─MBConv: 3-14                                [1, 112, 14, 14]          [1, 112, 14, 14]          208,572                   True\n",
              "│    └─Sequential: 2-7                                  [1, 112, 14, 14]          [1, 192, 7, 7]            --                        True\n",
              "│    │    └─MBConv: 3-15                                [1, 112, 14, 14]          [1, 192, 7, 7]            262,492                   True\n",
              "│    │    └─MBConv: 3-16                                [1, 192, 7, 7]            [1, 192, 7, 7]            587,952                   True\n",
              "│    │    └─MBConv: 3-17                                [1, 192, 7, 7]            [1, 192, 7, 7]            587,952                   True\n",
              "│    │    └─MBConv: 3-18                                [1, 192, 7, 7]            [1, 192, 7, 7]            587,952                   True\n",
              "│    └─Sequential: 2-8                                  [1, 192, 7, 7]            [1, 320, 7, 7]            --                        True\n",
              "│    │    └─MBConv: 3-19                                [1, 192, 7, 7]            [1, 320, 7, 7]            717,232                   True\n",
              "│    └─Conv2dNormActivation: 2-9                        [1, 320, 7, 7]            [1, 1280, 7, 7]           --                        True\n",
              "│    │    └─Conv2d: 3-20                                [1, 320, 7, 7]            [1, 1280, 7, 7]           409,600                   True\n",
              "│    │    └─BatchNorm2d: 3-21                           [1, 1280, 7, 7]           [1, 1280, 7, 7]           2,560                     True\n",
              "│    │    └─SiLU: 3-22                                  [1, 1280, 7, 7]           [1, 1280, 7, 7]           --                        --\n",
              "├─AdaptiveAvgPool2d: 1-2                                [1, 1280, 7, 7]           [1, 1280, 1, 1]           --                        --\n",
              "├─Sequential: 1-3                                       [1, 1280]                 [1, 1000]                 --                        True\n",
              "│    └─Dropout: 2-10                                    [1, 1280]                 [1, 1280]                 --                        --\n",
              "│    └─Linear: 2-11                                     [1, 1280]                 [1, 1000]                 1,281,000                 True\n",
              "===========================================================================================================================================================\n",
              "Total params: 5,288,548\n",
              "Trainable params: 5,288,548\n",
              "Non-trainable params: 0\n",
              "Total mult-adds (Units.MEGABYTES): 385.87\n",
              "===========================================================================================================================================================\n",
              "Input size (MB): 0.60\n",
              "Forward/backward pass size (MB): 107.89\n",
              "Params size (MB): 21.15\n",
              "Estimated Total Size (MB): 129.64\n",
              "==========================================================================================================================================================="
            ]
          },
          "metadata": {},
          "execution_count": 33
        }
      ]
    },
    {
      "cell_type": "code",
      "source": [
        "for param in Model.features.parameters():\n",
        "  param.requires_grad= False"
      ],
      "metadata": {
        "id": "qaE_iueazZVH"
      },
      "execution_count": 34,
      "outputs": []
    },
    {
      "cell_type": "code",
      "source": [
        "summary(\n",
        "    model=Model,\n",
        "    input_size=(1, 3, 224, 224),\n",
        "    col_names=[\"input_size\", \"output_size\", \"num_params\", \"trainable\"],\n",
        ")"
      ],
      "metadata": {
        "colab": {
          "base_uri": "https://localhost:8080/"
        },
        "id": "JYKNa8HBzrXn",
        "outputId": "189e0092-36c6-4ecd-aa14-4a518e69dcc1"
      },
      "execution_count": 35,
      "outputs": [
        {
          "output_type": "execute_result",
          "data": {
            "text/plain": [
              "===========================================================================================================================================================\n",
              "Layer (type:depth-idx)                                  Input Shape               Output Shape              Param #                   Trainable\n",
              "===========================================================================================================================================================\n",
              "EfficientNet                                            [1, 3, 224, 224]          [1, 1000]                 --                        Partial\n",
              "├─Sequential: 1-1                                       [1, 3, 224, 224]          [1, 1280, 7, 7]           --                        False\n",
              "│    └─Conv2dNormActivation: 2-1                        [1, 3, 224, 224]          [1, 32, 112, 112]         --                        False\n",
              "│    │    └─Conv2d: 3-1                                 [1, 3, 224, 224]          [1, 32, 112, 112]         (864)                     False\n",
              "│    │    └─BatchNorm2d: 3-2                            [1, 32, 112, 112]         [1, 32, 112, 112]         (64)                      False\n",
              "│    │    └─SiLU: 3-3                                   [1, 32, 112, 112]         [1, 32, 112, 112]         --                        --\n",
              "│    └─Sequential: 2-2                                  [1, 32, 112, 112]         [1, 16, 112, 112]         --                        False\n",
              "│    │    └─MBConv: 3-4                                 [1, 32, 112, 112]         [1, 16, 112, 112]         (1,448)                   False\n",
              "│    └─Sequential: 2-3                                  [1, 16, 112, 112]         [1, 24, 56, 56]           --                        False\n",
              "│    │    └─MBConv: 3-5                                 [1, 16, 112, 112]         [1, 24, 56, 56]           (6,004)                   False\n",
              "│    │    └─MBConv: 3-6                                 [1, 24, 56, 56]           [1, 24, 56, 56]           (10,710)                  False\n",
              "│    └─Sequential: 2-4                                  [1, 24, 56, 56]           [1, 40, 28, 28]           --                        False\n",
              "│    │    └─MBConv: 3-7                                 [1, 24, 56, 56]           [1, 40, 28, 28]           (15,350)                  False\n",
              "│    │    └─MBConv: 3-8                                 [1, 40, 28, 28]           [1, 40, 28, 28]           (31,290)                  False\n",
              "│    └─Sequential: 2-5                                  [1, 40, 28, 28]           [1, 80, 14, 14]           --                        False\n",
              "│    │    └─MBConv: 3-9                                 [1, 40, 28, 28]           [1, 80, 14, 14]           (37,130)                  False\n",
              "│    │    └─MBConv: 3-10                                [1, 80, 14, 14]           [1, 80, 14, 14]           (102,900)                 False\n",
              "│    │    └─MBConv: 3-11                                [1, 80, 14, 14]           [1, 80, 14, 14]           (102,900)                 False\n",
              "│    └─Sequential: 2-6                                  [1, 80, 14, 14]           [1, 112, 14, 14]          --                        False\n",
              "│    │    └─MBConv: 3-12                                [1, 80, 14, 14]           [1, 112, 14, 14]          (126,004)                 False\n",
              "│    │    └─MBConv: 3-13                                [1, 112, 14, 14]          [1, 112, 14, 14]          (208,572)                 False\n",
              "│    │    └─MBConv: 3-14                                [1, 112, 14, 14]          [1, 112, 14, 14]          (208,572)                 False\n",
              "│    └─Sequential: 2-7                                  [1, 112, 14, 14]          [1, 192, 7, 7]            --                        False\n",
              "│    │    └─MBConv: 3-15                                [1, 112, 14, 14]          [1, 192, 7, 7]            (262,492)                 False\n",
              "│    │    └─MBConv: 3-16                                [1, 192, 7, 7]            [1, 192, 7, 7]            (587,952)                 False\n",
              "│    │    └─MBConv: 3-17                                [1, 192, 7, 7]            [1, 192, 7, 7]            (587,952)                 False\n",
              "│    │    └─MBConv: 3-18                                [1, 192, 7, 7]            [1, 192, 7, 7]            (587,952)                 False\n",
              "│    └─Sequential: 2-8                                  [1, 192, 7, 7]            [1, 320, 7, 7]            --                        False\n",
              "│    │    └─MBConv: 3-19                                [1, 192, 7, 7]            [1, 320, 7, 7]            (717,232)                 False\n",
              "│    └─Conv2dNormActivation: 2-9                        [1, 320, 7, 7]            [1, 1280, 7, 7]           --                        False\n",
              "│    │    └─Conv2d: 3-20                                [1, 320, 7, 7]            [1, 1280, 7, 7]           (409,600)                 False\n",
              "│    │    └─BatchNorm2d: 3-21                           [1, 1280, 7, 7]           [1, 1280, 7, 7]           (2,560)                   False\n",
              "│    │    └─SiLU: 3-22                                  [1, 1280, 7, 7]           [1, 1280, 7, 7]           --                        --\n",
              "├─AdaptiveAvgPool2d: 1-2                                [1, 1280, 7, 7]           [1, 1280, 1, 1]           --                        --\n",
              "├─Sequential: 1-3                                       [1, 1280]                 [1, 1000]                 --                        True\n",
              "│    └─Dropout: 2-10                                    [1, 1280]                 [1, 1280]                 --                        --\n",
              "│    └─Linear: 2-11                                     [1, 1280]                 [1, 1000]                 1,281,000                 True\n",
              "===========================================================================================================================================================\n",
              "Total params: 5,288,548\n",
              "Trainable params: 1,281,000\n",
              "Non-trainable params: 4,007,548\n",
              "Total mult-adds (Units.MEGABYTES): 385.87\n",
              "===========================================================================================================================================================\n",
              "Input size (MB): 0.60\n",
              "Forward/backward pass size (MB): 107.89\n",
              "Params size (MB): 21.15\n",
              "Estimated Total Size (MB): 129.64\n",
              "==========================================================================================================================================================="
            ]
          },
          "metadata": {},
          "execution_count": 35
        }
      ]
    },
    {
      "cell_type": "code",
      "source": [
        "Model.classifier= nn.Sequential(\n",
        "    nn.Dropout(p=0.2, inplace= True),\n",
        "    nn.Linear(in_features=1280, out_features=3)\n",
        ")"
      ],
      "metadata": {
        "id": "RTli_44ozwEJ"
      },
      "execution_count": 36,
      "outputs": []
    },
    {
      "cell_type": "code",
      "source": [
        "device= \"cuda\" if torch.cuda.is_available() else \"cpu\""
      ],
      "metadata": {
        "id": "pySytCMa113P"
      },
      "execution_count": 37,
      "outputs": []
    },
    {
      "cell_type": "code",
      "source": [
        "Model= Model.to(device)"
      ],
      "metadata": {
        "id": "H1ycH9Mm3fFr"
      },
      "execution_count": 38,
      "outputs": []
    },
    {
      "cell_type": "code",
      "source": [
        "!wget -q https://github.com/mrdbourke/pytorch-deep-learning/raw/main/data/pizza_steak_sushi.zip -O pizza_steak_sushi.zip\n",
        "!unzip -q pizza_steak_sushi.zip -d ./data/"
      ],
      "metadata": {
        "colab": {
          "base_uri": "https://localhost:8080/"
        },
        "id": "aeEaRsjd3jJG",
        "outputId": "fcf7d224-8478-4547-994c-e446016fcb43"
      },
      "execution_count": 39,
      "outputs": [
        {
          "output_type": "stream",
          "name": "stdout",
          "text": [
            "replace ./data/test/steak/296375.jpg? [y]es, [n]o, [A]ll, [N]one, [r]ename: N\n"
          ]
        }
      ]
    },
    {
      "cell_type": "code",
      "source": [
        "train_dir = \"/content/data/train\"\n",
        "test_dir = \"/content/data/test\""
      ],
      "metadata": {
        "id": "nQxQoe3R3o5X"
      },
      "execution_count": 42,
      "outputs": []
    },
    {
      "cell_type": "code",
      "source": [
        "data_transforms=transforms.Compose([\n",
        "    transforms.Resize((224, 224)),\n",
        "    transforms.ToTensor(),\n",
        "    transforms.Normalize(mean=[0.5, 0.5, 0.5], std=[0.5, 0.5, 0.5])\n",
        "])"
      ],
      "metadata": {
        "id": "9AXWyz143sMp"
      },
      "execution_count": 43,
      "outputs": []
    },
    {
      "cell_type": "code",
      "source": [
        "train_data=datasets.ImageFolder(root=train_dir, transform= data_transforms)\n",
        "test_data= datasets.ImageFolder(root=test_dir, transform=data_transforms)"
      ],
      "metadata": {
        "id": "zGwCtrNp4YH6"
      },
      "execution_count": 44,
      "outputs": []
    },
    {
      "cell_type": "code",
      "source": [
        "train_loader= DataLoader(train_data, batch_size= 32, shuffle= True)\n",
        "test_loader = DataLoader(test_data, batch_size= 32, shuffle= False)"
      ],
      "metadata": {
        "id": "gD10t2Sd4u1K"
      },
      "execution_count": 46,
      "outputs": []
    },
    {
      "cell_type": "code",
      "source": [
        "loss_fn=nn.CrossEntropyLoss()\n",
        "optimizer= torch.optim.SGD(params=Model.parameters(),\n",
        "                           lr=0.1)"
      ],
      "metadata": {
        "id": "B2VIS9C44_ip"
      },
      "execution_count": 61,
      "outputs": []
    },
    {
      "cell_type": "code",
      "source": [
        "def training_loop(model, train_loader, test_loader, loss_fn, optimizer, epochs):\n",
        "    device = torch.device('cuda' if torch.cuda.is_available() else 'cpu')\n",
        "\n",
        "    epoch_values = []\n",
        "    train_loss_values = []\n",
        "    test_loss_values = []\n",
        "\n",
        "    for epoch in range(epochs):\n",
        "        model.train()\n",
        "        train_loss = 0\n",
        "        train_correct = 0\n",
        "        epoch_values.append(epoch)\n",
        "\n",
        "        for X, y in train_loader:\n",
        "            X, y = X.to(device), y.to(device)\n",
        "\n",
        "            # Forward pass\n",
        "            train_pred = model(X)\n",
        "            loss = loss_fn(train_pred, y)\n",
        "\n",
        "            # Backward pass and optimization\n",
        "            optimizer.zero_grad()\n",
        "            loss.backward()\n",
        "            optimizer.step()\n",
        "\n",
        "            # Accumulate metrics\n",
        "            train_loss += loss.item()\n",
        "            train_correct += (train_pred.argmax(1) == y).sum().item()\n",
        "\n",
        "        # Calculate epoch metrics\n",
        "        train_accuracy = train_correct / len(train_loader.dataset) * 100\n",
        "        avg_train_loss = train_loss / len(train_loader)\n",
        "\n",
        "        # Evaluate the model\n",
        "        model.eval()\n",
        "        test_loss = 0\n",
        "        test_correct = 0\n",
        "\n",
        "        with torch.no_grad():\n",
        "            for X, y in test_loader:\n",
        "                X, y = X.to(device), y.to(device)\n",
        "\n",
        "                test_pred = model(X)\n",
        "                loss = loss_fn(test_pred, y)\n",
        "\n",
        "                test_loss += loss.item()\n",
        "                test_correct += (test_pred.argmax(1) == y).sum().item()\n",
        "\n",
        "        # Calculate test metrics\n",
        "        test_accuracy = test_correct / len(test_loader.dataset) * 100\n",
        "        avg_test_loss = test_loss / len(test_loader)\n",
        "\n",
        "        # Append losses for the epoch\n",
        "        train_loss_values.append(avg_train_loss)\n",
        "        test_loss_values.append(avg_test_loss)\n",
        "\n",
        "        print(\n",
        "            f\"Epoch: {epoch+1}/{epochs} | \"\n",
        "            f\"Train Loss: {avg_train_loss:.4f} | Train Accuracy: {train_accuracy:.2f}% | \"\n",
        "            f\"Test Loss: {avg_test_loss:.4f} | Test Accuracy: {test_accuracy:.2f}%\"\n",
        "        )\n",
        "\n",
        "    return epoch_values, train_loss_values, test_loss_values\n",
        "epochs = 15\n",
        "epoch_values, train_loss_values, test_loss_values = training_loop(\n",
        "    Model, train_loader, test_loader, loss_fn, optimizer, epochs\n",
        ")\n"
      ],
      "metadata": {
        "colab": {
          "base_uri": "https://localhost:8080/"
        },
        "id": "RWwwbbEv5MBn",
        "outputId": "f6e45808-3964-4d81-c6a4-8566e844911b"
      },
      "execution_count": 88,
      "outputs": [
        {
          "output_type": "stream",
          "name": "stdout",
          "text": [
            "Epoch: 1/15 | Train Loss: 0.2891 | Train Accuracy: 96.44% | Test Loss: 0.3756 | Test Accuracy: 85.33%\n",
            "Epoch: 2/15 | Train Loss: 0.1980 | Train Accuracy: 94.67% | Test Loss: 0.3436 | Test Accuracy: 86.67%\n",
            "Epoch: 3/15 | Train Loss: 0.1251 | Train Accuracy: 95.11% | Test Loss: 0.2931 | Test Accuracy: 94.67%\n",
            "Epoch: 4/15 | Train Loss: 0.1174 | Train Accuracy: 98.22% | Test Loss: 0.2843 | Test Accuracy: 93.33%\n",
            "Epoch: 5/15 | Train Loss: 0.2684 | Train Accuracy: 97.78% | Test Loss: 0.5494 | Test Accuracy: 85.33%\n",
            "Epoch: 6/15 | Train Loss: 0.3168 | Train Accuracy: 96.89% | Test Loss: 0.3516 | Test Accuracy: 85.33%\n",
            "Epoch: 7/15 | Train Loss: 0.1806 | Train Accuracy: 96.00% | Test Loss: 0.3824 | Test Accuracy: 92.00%\n",
            "Epoch: 8/15 | Train Loss: 0.0881 | Train Accuracy: 96.89% | Test Loss: 0.3297 | Test Accuracy: 94.67%\n",
            "Epoch: 9/15 | Train Loss: 0.2669 | Train Accuracy: 97.78% | Test Loss: 0.4251 | Test Accuracy: 86.67%\n",
            "Epoch: 10/15 | Train Loss: 0.0798 | Train Accuracy: 96.89% | Test Loss: 0.3364 | Test Accuracy: 90.67%\n",
            "Epoch: 11/15 | Train Loss: 0.0945 | Train Accuracy: 97.33% | Test Loss: 0.3459 | Test Accuracy: 90.67%\n",
            "Epoch: 12/15 | Train Loss: 0.3795 | Train Accuracy: 99.11% | Test Loss: 0.5141 | Test Accuracy: 89.33%\n",
            "Epoch: 13/15 | Train Loss: 0.2756 | Train Accuracy: 96.89% | Test Loss: 0.3758 | Test Accuracy: 92.00%\n",
            "Epoch: 14/15 | Train Loss: 0.3284 | Train Accuracy: 98.67% | Test Loss: 0.6454 | Test Accuracy: 82.67%\n",
            "Epoch: 15/15 | Train Loss: 0.0880 | Train Accuracy: 97.33% | Test Loss: 0.4387 | Test Accuracy: 93.33%\n"
          ]
        }
      ]
    },
    {
      "cell_type": "code",
      "source": [],
      "metadata": {
        "id": "95LzW0pH_0AA"
      },
      "execution_count": null,
      "outputs": []
    }
  ]
}