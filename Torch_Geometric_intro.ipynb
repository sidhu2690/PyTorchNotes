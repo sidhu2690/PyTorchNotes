{
  "nbformat": 4,
  "nbformat_minor": 0,
  "metadata": {
    "colab": {
      "provenance": [],
      "include_colab_link": true
    },
    "kernelspec": {
      "name": "python3",
      "display_name": "Python 3"
    },
    "language_info": {
      "name": "python"
    }
  },
  "cells": [
    {
      "cell_type": "markdown",
      "metadata": {
        "id": "view-in-github",
        "colab_type": "text"
      },
      "source": [
        "<a href=\"https://colab.research.google.com/github/sidhu2690/PyTorchNotes/blob/main/Torch_Geometric_intro.ipynb\" target=\"_parent\"><img src=\"https://colab.research.google.com/assets/colab-badge.svg\" alt=\"Open In Colab\"/></a>"
      ]
    },
    {
      "cell_type": "markdown",
      "source": [
        "### What is Torch-Geometric(or PyG)?\n",
        "Graphs are everywhere—think social networks (nodes are people, edges are friendships), molecular structures (nodes are atoms, edges are bonds), or citation networks (nodes are papers, edges are citations). Torch-Geometric([doc](https://pytorch-geometric.readthedocs.io/en/latest/)) makes it easy to apply deep learning techniques to these structures.\n",
        "\n",
        "For this introduction, we’ll focus on node classification, where the goal is to predict a label for each node in a graph (e.g., classifying people into communities in a social network)."
      ],
      "metadata": {
        "id": "ps9Pe5z8AMIm"
      }
    },
    {
      "cell_type": "markdown",
      "source": [
        "You can install the torch-geometric library from PyPI using pip."
      ],
      "metadata": {
        "id": "0TpOATpt_4rx"
      }
    },
    {
      "cell_type": "code",
      "execution_count": null,
      "metadata": {
        "colab": {
          "base_uri": "https://localhost:8080/"
        },
        "id": "h-9JCfNK_umt",
        "outputId": "46e20437-edca-4a6b-8a43-ee5077b58c0a"
      },
      "outputs": [
        {
          "output_type": "stream",
          "name": "stdout",
          "text": [
            "Collecting torch-geometric\n",
            "  Downloading torch_geometric-2.6.1-py3-none-any.whl.metadata (63 kB)\n",
            "\u001b[?25l     \u001b[90m━━━━━━━━━━━━━━━━━━━━━━━━━━━━━━━━━━━━━━━━\u001b[0m \u001b[32m0.0/63.1 kB\u001b[0m \u001b[31m?\u001b[0m eta \u001b[36m-:--:--\u001b[0m\r\u001b[2K     \u001b[90m━━━━━━━━━━━━━━━━━━━━━━━━━━━━━━━━━━━━━━━━\u001b[0m \u001b[32m63.1/63.1 kB\u001b[0m \u001b[31m1.6 MB/s\u001b[0m eta \u001b[36m0:00:00\u001b[0m\n",
            "\u001b[?25hRequirement already satisfied: aiohttp in /usr/local/lib/python3.11/dist-packages (from torch-geometric) (3.11.15)\n",
            "Requirement already satisfied: fsspec in /usr/local/lib/python3.11/dist-packages (from torch-geometric) (2025.3.2)\n",
            "Requirement already satisfied: jinja2 in /usr/local/lib/python3.11/dist-packages (from torch-geometric) (3.1.6)\n",
            "Requirement already satisfied: numpy in /usr/local/lib/python3.11/dist-packages (from torch-geometric) (2.0.2)\n",
            "Requirement already satisfied: psutil>=5.8.0 in /usr/local/lib/python3.11/dist-packages (from torch-geometric) (5.9.5)\n",
            "Requirement already satisfied: pyparsing in /usr/local/lib/python3.11/dist-packages (from torch-geometric) (3.2.3)\n",
            "Requirement already satisfied: requests in /usr/local/lib/python3.11/dist-packages (from torch-geometric) (2.32.3)\n",
            "Requirement already satisfied: tqdm in /usr/local/lib/python3.11/dist-packages (from torch-geometric) (4.67.1)\n",
            "Requirement already satisfied: aiohappyeyeballs>=2.3.0 in /usr/local/lib/python3.11/dist-packages (from aiohttp->torch-geometric) (2.6.1)\n",
            "Requirement already satisfied: aiosignal>=1.1.2 in /usr/local/lib/python3.11/dist-packages (from aiohttp->torch-geometric) (1.3.2)\n",
            "Requirement already satisfied: attrs>=17.3.0 in /usr/local/lib/python3.11/dist-packages (from aiohttp->torch-geometric) (25.3.0)\n",
            "Requirement already satisfied: frozenlist>=1.1.1 in /usr/local/lib/python3.11/dist-packages (from aiohttp->torch-geometric) (1.5.0)\n",
            "Requirement already satisfied: multidict<7.0,>=4.5 in /usr/local/lib/python3.11/dist-packages (from aiohttp->torch-geometric) (6.3.2)\n",
            "Requirement already satisfied: propcache>=0.2.0 in /usr/local/lib/python3.11/dist-packages (from aiohttp->torch-geometric) (0.3.1)\n",
            "Requirement already satisfied: yarl<2.0,>=1.17.0 in /usr/local/lib/python3.11/dist-packages (from aiohttp->torch-geometric) (1.18.3)\n",
            "Requirement already satisfied: MarkupSafe>=2.0 in /usr/local/lib/python3.11/dist-packages (from jinja2->torch-geometric) (3.0.2)\n",
            "Requirement already satisfied: charset-normalizer<4,>=2 in /usr/local/lib/python3.11/dist-packages (from requests->torch-geometric) (3.4.1)\n",
            "Requirement already satisfied: idna<4,>=2.5 in /usr/local/lib/python3.11/dist-packages (from requests->torch-geometric) (3.10)\n",
            "Requirement already satisfied: urllib3<3,>=1.21.1 in /usr/local/lib/python3.11/dist-packages (from requests->torch-geometric) (2.3.0)\n",
            "Requirement already satisfied: certifi>=2017.4.17 in /usr/local/lib/python3.11/dist-packages (from requests->torch-geometric) (2025.1.31)\n",
            "Downloading torch_geometric-2.6.1-py3-none-any.whl (1.1 MB)\n",
            "\u001b[2K   \u001b[90m━━━━━━━━━━━━━━━━━━━━━━━━━━━━━━━━━━━━━━━━\u001b[0m \u001b[32m1.1/1.1 MB\u001b[0m \u001b[31m15.3 MB/s\u001b[0m eta \u001b[36m0:00:00\u001b[0m\n",
            "\u001b[?25hInstalling collected packages: torch-geometric\n",
            "Successfully installed torch-geometric-2.6.1\n"
          ]
        }
      ],
      "source": [
        "!pip install torch-geometric"
      ]
    },
    {
      "cell_type": "markdown",
      "source": [
        "## What is a Graph?\n",
        "\n",
        "A graph is a fundamental data structure used to model relationships between objects. It consists of two primary components:\n",
        "\n",
        "**Nodes (Vertices):**\n",
        "\n",
        "* These represent the entities within the graph. Think of them as the individual items or points of interest.\n",
        "\n",
        "**Edges:**\n",
        "\n",
        "* These represent the connections or relationships between the nodes. They indicate how the entities are linked.\n",
        "\n",
        "Nodes can have features (e.g., a person’s age or interests).\n",
        "\n",
        "Edges can have features or weights (e.g., the strength of a friendship).\n",
        "\n",
        "We often have labels for nodes (e.g., which community a person belongs to)."
      ],
      "metadata": {
        "id": "d_vqdDeoAtZ-"
      }
    },
    {
      "cell_type": "markdown",
      "source": [
        "Torch-Geometric represents graphs using a Data object, which we’ll explore next."
      ],
      "metadata": {
        "id": "7hbjXJ68BkTV"
      }
    },
    {
      "cell_type": "markdown",
      "source": [
        "### The Data Object in Torch-Geometric\n",
        "\n",
        "The `Data` object is the core of Torch-Geometric. It’s a container that holds all the information about a graph."
      ],
      "metadata": {
        "id": "qxjn_EhaCc4A"
      }
    },
    {
      "cell_type": "code",
      "source": [
        "import torch\n",
        "from torch_geometric.data import Data\n",
        "\n",
        "# Define edges: a triangle (0-1, 1-2, 2-0)\n",
        "edge_index = torch.tensor([[0, 1, 1, 2, 2, 0],\n",
        "                           [1, 0, 2, 1, 0, 2]], dtype=torch.long)\n",
        "\n",
        "# Node features: each node has a 2D feature vector\n",
        "x = torch.tensor([[1.0, 0.0], [0.0, 1.0], [1.0, 1.0]], dtype=torch.float)\n",
        "\n",
        "# Node labels: binary classification (0 or 1)\n",
        "y = torch.tensor([0, 1, 0], dtype=torch.float)\n",
        "\n",
        "# Create the Data object\n",
        "data = Data(x=x, edge_index=edge_index, y=y)\n",
        "\n",
        "print(data)"
      ],
      "metadata": {
        "colab": {
          "base_uri": "https://localhost:8080/"
        },
        "id": "hRWmvXVPAG2F",
        "outputId": "ebd308a6-f887-4868-97ca-dd00c043629c"
      },
      "execution_count": null,
      "outputs": [
        {
          "output_type": "stream",
          "name": "stdout",
          "text": [
            "Data(x=[3, 2], edge_index=[2, 6], y=[3])\n"
          ]
        }
      ]
    },
    {
      "cell_type": "code",
      "source": [
        "data.x"
      ],
      "metadata": {
        "colab": {
          "base_uri": "https://localhost:8080/"
        },
        "id": "OB-c9nIwC3dW",
        "outputId": "f1a6f33f-9ae9-4410-bb96-a7ef6343f8e9"
      },
      "execution_count": null,
      "outputs": [
        {
          "output_type": "execute_result",
          "data": {
            "text/plain": [
              "tensor([[1., 0.],\n",
              "        [0., 1.],\n",
              "        [1., 1.]])"
            ]
          },
          "metadata": {},
          "execution_count": 3
        }
      ]
    },
    {
      "cell_type": "code",
      "source": [
        "data.edge_index"
      ],
      "metadata": {
        "colab": {
          "base_uri": "https://localhost:8080/"
        },
        "id": "FZpm-wmPC7a6",
        "outputId": "a23d2848-672c-449d-8011-06a848aa6484"
      },
      "execution_count": null,
      "outputs": [
        {
          "output_type": "execute_result",
          "data": {
            "text/plain": [
              "tensor([[0, 1, 1, 2, 2, 0],\n",
              "        [1, 0, 2, 1, 0, 2]])"
            ]
          },
          "metadata": {},
          "execution_count": 4
        }
      ]
    },
    {
      "cell_type": "markdown",
      "source": [
        "* `edge_index`: Defines the graph structure; edges are undirected, so we include both directions (e.g., 0→1 and 1→0).\n",
        "* `x`: Gives each node a feature vector (here, 2D for simplicity).\n",
        "* `y`: Assigns a label to each node."
      ],
      "metadata": {
        "id": "99vUzRKiALOV"
      }
    },
    {
      "cell_type": "markdown",
      "source": [
        "### Using NetworkX with Torch-Geometric\n",
        "\n",
        "NetworkX is a Python library for creating and manipulating graphs. Torch-Geometric provides a utility, `from_networkx`, to convert a NetworkX graph into a `Data` object. This is super useful for building custom graphs."
      ],
      "metadata": {
        "id": "bfUiWuQZDlE7"
      }
    },
    {
      "cell_type": "code",
      "source": [
        "!pip install -q networkx"
      ],
      "metadata": {
        "id": "l8N-t6xDDsrG"
      },
      "execution_count": null,
      "outputs": []
    },
    {
      "cell_type": "code",
      "source": [
        "import networkx as nx\n",
        "import matplotlib.pyplot as plt\n",
        "from torch_geometric.utils import from_networkx\n",
        "\n",
        "# Create a simple graph with NetworkX\n",
        "G = nx.Graph() # Graph object\n",
        "G.add_edges_from([(0, 1), (0, 2), (1, 2), (2, 3)])\n",
        "\n",
        "# Optionally, you can add node features to your NetworkX graph\n",
        "for i in G.nodes():\n",
        "    G.nodes[i]['x'] = [1.0, 0.0]  # Example: Every node gets the same 2-dimensional feature\n",
        "\n",
        "# Convert NetworkX graph to a Torch-Geometric Data object\n",
        "data = from_networkx(G)\n",
        "\n",
        "print(data)"
      ],
      "metadata": {
        "colab": {
          "base_uri": "https://localhost:8080/"
        },
        "id": "HV3lAWqZDK_H",
        "outputId": "8e76f1a7-664c-4f46-9765-0e98112dd525"
      },
      "execution_count": null,
      "outputs": [
        {
          "output_type": "stream",
          "name": "stdout",
          "text": [
            "Data(x=[4, 2], edge_index=[2, 8])\n"
          ]
        }
      ]
    },
    {
      "cell_type": "markdown",
      "source": [
        "NetworkX’s `draw` function lets you visualize the graph."
      ],
      "metadata": {
        "id": "psC9dRY7E9pU"
      }
    },
    {
      "cell_type": "code",
      "source": [
        "import matplotlib.pyplot as plt\n",
        "\n",
        "plt.figure(figsize=(4,4))\n",
        "nx.draw(G, with_labels=True)\n",
        "plt.show()"
      ],
      "metadata": {
        "colab": {
          "base_uri": "https://localhost:8080/",
          "height": 436
        },
        "id": "ZX2U1WLPD-de",
        "outputId": "1fca0554-93e0-40da-f524-17de042dfce5"
      },
      "execution_count": null,
      "outputs": [
        {
          "output_type": "display_data",
          "data": {
            "text/plain": [
              "<Figure size 400x400 with 1 Axes>"
            ],
            "image/png": "[encoded data removed]"
          },
          "metadata": {}
        }
      ]
    },
    {
      "cell_type": "code",
      "source": [
        "from torch_geometric.utils import to_networkx\n",
        "\n",
        "data_plt = to_networkx(data, to_undirected=True)\n",
        "plt.figure(figsize=(4,4))\n",
        "nx.draw(data_plt, with_labels=True)\n",
        "plt.show()"
      ],
      "metadata": {
        "id": "dEJlECTFVzIw",
        "outputId": "92d90781-6130-4a5d-a9be-3c71b683a377",
        "colab": {
          "base_uri": "https://localhost:8080/",
          "height": 436
        }
      },
      "execution_count": null,
      "outputs": [
        {
          "output_type": "display_data",
          "data": {
            "text/plain": [
              "<Figure size 400x400 with 1 Axes>"
            ],
            "image/png": "[encoded data removed]"
          },
          "metadata": {}
        }
      ]
    },
    {
      "cell_type": "markdown",
      "source": [
        "To convert a `Data` object to a NetworkX graph object `G`, use `to_networkx`. To convert from `G` back to a `Data` object, use `from_networkx`."
      ],
      "metadata": {
        "id": "HDM-DzdgvTHq"
      }
    },
    {
      "cell_type": "markdown",
      "source": [
        "### Building a GNN Model Using PyG\n",
        "\n",
        "GNNs use specialized layers to process graph-structured data. One of the basic layers is `GCNConv` from PyTorch Geometric, which is based on the graph convolutional network (GCN) model.\n",
        "\n",
        "#### Example: A Single GCN Layer"
      ],
      "metadata": {
        "id": "m6QmXUOfHHwP"
      }
    },
    {
      "cell_type": "code",
      "source": [
        "from torch_geometric.nn import GCNConv\n",
        "import torch.nn.functional as F\n",
        "\n",
        "# Create a GCN layer: converting 2 input features to 4 output features.\n",
        "conv = GCNConv(in_channels=2, out_channels=4)\n",
        "\n",
        "# A forward pass through the layer.\n",
        "# Create dummy edge weights (optional; if not provided, defaults will be used)\n",
        "edge_weight = torch.ones(data.edge_index.size(1))\n",
        "\n",
        "# Pass the data through the layer\n",
        "x_out = conv(data.x, data.edge_index, edge_weight)\n",
        "print(\"GCN Layer Output:\\n\", x_out)"
      ],
      "metadata": {
        "colab": {
          "base_uri": "https://localhost:8080/"
        },
        "id": "Y2MpRRMuEAY_",
        "outputId": "881d0241-5346-4a1f-af1a-4e072ea942fc"
      },
      "execution_count": null,
      "outputs": [
        {
          "output_type": "stream",
          "name": "stdout",
          "text": [
            "GCN Layer Output:\n",
            " tensor([[-0.9276, -0.0422, -0.2388, -0.7945],\n",
            "        [-0.9276, -0.0422, -0.2388, -0.7945],\n",
            "        [-1.1466, -0.0521, -0.2951, -0.9820],\n",
            "        [-0.8288, -0.0377, -0.2133, -0.7098]], grad_fn=<AddBackward0>)\n"
          ]
        }
      ]
    },
    {
      "cell_type": "markdown",
      "source": [
        "### Exploring More GNN Layers\n",
        "\n",
        "Torch-Geometric comes with various GNN layers. Here are a few additional options:\n",
        "\n",
        "* **GraphSAGE (`SAGEConv`):** Aggregates neighbor information by sampling and pooling.\n",
        "* **GATConv:** Uses an attention mechanism on edges.\n",
        "* **GraphConv:** Another variation on graph convolutions."
      ],
      "metadata": {
        "id": "cYn9luYzIBKt"
      }
    },
    {
      "cell_type": "code",
      "source": [
        "from torch_geometric.nn import SAGEConv, GATConv, GraphConv\n",
        "\n",
        "# Define layers converting from 2 input features to 4 output features.\n",
        "sage_layer = SAGEConv(in_channels=2, out_channels=4)\n",
        "gat_layer = GATConv(in_channels=2, out_channels=4, heads=2, concat=False)\n",
        "graphconv_layer = GraphConv(in_channels=2, out_channels=4)\n",
        "\n",
        "print(\"SAGE Layer Output:\\n\", sage_layer(data.x, data.edge_index))\n",
        "print(\"GAT Layer Output:\\n\", gat_layer(data.x, data.edge_index))\n",
        "print(\"GraphConv Layer Output:\\n\", graphconv_layer(data.x, data.edge_index))\n"
      ],
      "metadata": {
        "colab": {
          "base_uri": "https://localhost:8080/"
        },
        "id": "zOTvKCPyHvW-",
        "outputId": "187a3516-80e7-4c0b-b22e-441c7888f537"
      },
      "execution_count": null,
      "outputs": [
        {
          "output_type": "stream",
          "name": "stdout",
          "text": [
            "SAGE Layer Output:\n",
            " tensor([[ 0.0166,  1.0215,  0.8836, -1.7568],\n",
            "        [ 0.0166,  1.0215,  0.8836, -1.7568],\n",
            "        [ 0.0166,  1.0215,  0.8836, -1.7568],\n",
            "        [ 0.0166,  1.0215,  0.8836, -1.7568]], grad_fn=<AddBackward0>)\n",
            "GAT Layer Output:\n",
            " tensor([[ 0.5022,  0.3370,  0.0884, -0.0804],\n",
            "        [ 0.5022,  0.3370,  0.0884, -0.0804],\n",
            "        [ 0.5022,  0.3370,  0.0884, -0.0804],\n",
            "        [ 0.5022,  0.3370,  0.0884, -0.0804]], grad_fn=<AddBackward0>)\n",
            "GraphConv Layer Output:\n",
            " tensor([[-0.5769,  0.3264,  1.9903, -0.2090],\n",
            "        [-0.5769,  0.3264,  1.9903, -0.2090],\n",
            "        [-0.6654,  0.8150,  2.5975, -0.7642],\n",
            "        [-0.4884, -0.1622,  1.3831,  0.3461]], grad_fn=<AddBackward0>)\n"
          ]
        }
      ]
    },
    {
      "cell_type": "markdown",
      "source": [
        "Each layer processes the graph slightly differently. Experimenting with these layers is an excellent way to understand how different architectures affect performance."
      ],
      "metadata": {
        "id": "4YcxzUq-IKWU"
      }
    },
    {
      "cell_type": "markdown",
      "source": [
        "### Incorporating Normalization: GraphNorm\n",
        "\n",
        "Normalization layers like `GraphNorm` can help stabilize training by normalizing the features across nodes for each graph."
      ],
      "metadata": {
        "id": "GgPSwCjRIP8d"
      }
    },
    {
      "cell_type": "code",
      "source": [
        "from torch_geometric.nn import GraphNorm\n",
        "\n",
        "# Define a GraphNorm layer for 4-dimensional features.\n",
        "gnorm = GraphNorm(in_channels=4)\n",
        "\n",
        "# Apply GCN convolution first and then normalization.\n",
        "x_gcn = conv(data.x, data.edge_index, edge_weight=None)\n",
        "x_norm = gnorm(x_gcn)\n",
        "print(\"After GraphNorm:\\n\", x_norm)"
      ],
      "metadata": {
        "colab": {
          "base_uri": "https://localhost:8080/"
        },
        "id": "k_mDU7HUIAAI",
        "outputId": "0eee294b-bd02-42ba-d599-928d22753592"
      },
      "execution_count": null,
      "outputs": [
        {
          "output_type": "stream",
          "name": "stdout",
          "text": [
            "After GraphNorm:\n",
            " tensor([[ 0.2582,  0.2217,  0.2569,  0.2582],\n",
            "        [ 0.2582,  0.2217,  0.2569,  0.2582],\n",
            "        [-1.6239, -1.3941, -1.6155, -1.6237],\n",
            "        [ 1.1075,  0.9508,  1.1018,  1.1074]], grad_fn=<AddBackward0>)\n"
          ]
        }
      ]
    },
    {
      "cell_type": "markdown",
      "source": [
        "#### What If the Nodes Don’t Have Any Features?\n",
        "Not all graphs come with node features. For example, many social or citation networks might only give you the graph structure—who connects to whom—but no additional data about the nodes. So what do we do?\n",
        "\n",
        "🤔 Torch-Geometric (and GNNs in general) require node features to start the message-passing. If your nodes don’t have any features, one common trick is to use one-hot encodings based on the node index. This gives each node a unique identity."
      ],
      "metadata": {
        "id": "9TUY_L45NmMJ"
      }
    },
    {
      "cell_type": "code",
      "source": [
        "import torch\n",
        "from torch_geometric.data import Data\n",
        "from torch_geometric.nn import GCNConv\n",
        "\n",
        "# Create a graph with 4 nodes and some edges\n",
        "edge_index = torch.tensor([\n",
        "    [0, 1, 2, 3, 0, 2],\n",
        "    [1, 0, 3, 2, 2, 0]\n",
        "], dtype=torch.long)\n",
        "\n",
        "# No node features!\n",
        "# x = None or torch.empty(num_nodes, 0) will both fail in GCNConv\n",
        "\n",
        "num_nodes = 4\n",
        "# Let's try to use a dummy model\n",
        "conv = GCNConv(in_channels=4, out_channels=2)\n",
        "\n",
        "# Try 1: No node features (just pass None) – will raise an error!\n",
        "try:\n",
        "    x_none = None\n",
        "    data = Data(x=x_none, edge_index=edge_index)\n",
        "    out = conv(data.x, data.edge_index)\n",
        "except Exception as e:\n",
        "    print(\"❌ Failed without node features:\", e)\n"
      ],
      "metadata": {
        "colab": {
          "base_uri": "https://localhost:8080/"
        },
        "id": "oEM5FQQKNse1",
        "outputId": "9ed16bd2-3a20-4fd5-82a7-9d8e785f2283"
      },
      "execution_count": null,
      "outputs": [
        {
          "output_type": "stream",
          "name": "stdout",
          "text": [
            "❌ Failed without node features: 'NoneType' object has no attribute 'size'\n"
          ]
        }
      ]
    },
    {
      "cell_type": "markdown",
      "source": [
        "##### Fix: Use One-Hot Encoding for Node Indices\n"
      ],
      "metadata": {
        "id": "LTmcbY2FN3Mh"
      }
    },
    {
      "cell_type": "code",
      "source": [
        "# Use one-hot encoding for node IDs\n",
        "x_onehot = torch.eye(num_nodes)\n",
        "\n",
        "data = Data(x=x_onehot, edge_index=edge_index)\n",
        "out = conv(data.x, data.edge_index)\n",
        "\n",
        "print(\"✅ Output with one-hot features:\\n\", out)\n"
      ],
      "metadata": {
        "colab": {
          "base_uri": "https://localhost:8080/"
        },
        "id": "ZL7y767GN10Z",
        "outputId": "333bd1a1-600a-4b24-82ff-204907e60b61"
      },
      "execution_count": null,
      "outputs": [
        {
          "output_type": "stream",
          "name": "stdout",
          "text": [
            "✅ Output with one-hot features:\n",
            " tensor([[ 0.6207,  0.4912],\n",
            "        [ 0.3753,  0.7643],\n",
            "        [-0.0687,  0.3822],\n",
            "        [-0.0725,  0.1324]], grad_fn=<AddBackward0>)\n"
          ]
        }
      ]
    },
    {
      "cell_type": "markdown",
      "source": [
        "But in larger graphs, one-hot encoding could be inefficient in terms of memory; in such cases, learnable embeddings indexed by node IDs may be preferable."
      ],
      "metadata": {
        "id": "Fyyk1F-CQ_AM"
      }
    },
    {
      "cell_type": "markdown",
      "source": [
        "### A Simple Training Loop for Node Classification\n",
        "\n",
        "Let’s put together a small GNN model and demonstrate training for a node classification task. We’ll use train and validation masks to focus on subsets of nodes for training and evaluation.\n",
        "\n",
        "#### Example: Defining the Model and Training Loop"
      ],
      "metadata": {
        "id": "zysyEbiYJYyD"
      }
    },
    {
      "cell_type": "code",
      "source": [
        "import torch\n",
        "import torch.nn as nn\n",
        "import torch.nn.functional as F\n",
        "import torch.optim as optim\n",
        "import numpy as np\n",
        "import networkx as nx\n",
        "from torch_geometric.data import Data\n",
        "from torch_geometric.nn import GCNConv\n",
        "from torch_geometric.utils import from_networkx\n",
        "\n",
        "# Step 1: Create a simple graph (star graph with 5 nodes)\n",
        "G = nx.star_graph(4)  # Central node 0, connected to 1, 2, 3, 4\n",
        "data = from_networkx(G)\n",
        "\n",
        "# Step 2: Add node features and labels\n",
        "data.x = torch.ones(data.num_nodes, 2)  # 2D feature vector [1, 1] for each node\n",
        "data.y = torch.tensor([0, 1, 1, 1, 1], dtype=torch.float)  # Central node: 0, others: 1\n",
        "\n",
        "# Step 3: Create train and validation masks\n",
        "num_nodes = data.num_nodes\n",
        "indices = np.random.permutation(num_nodes)\n",
        "train_idx, val_idx = indices[:2], indices[2:]  # 2 nodes for train, 3 for val\n",
        "data.train_mask = torch.zeros(num_nodes, dtype=torch.bool)\n",
        "data.val_mask = torch.zeros(num_nodes, dtype=torch.bool)\n",
        "data.train_mask[train_idx] = True\n",
        "data.val_mask[val_idx] = True\n",
        "\n",
        "# Step 4: Define the GCN model\n",
        "class SimpleGCN(nn.Module):\n",
        "    def __init__(self):\n",
        "        super(SimpleGCN, self).__init__()\n",
        "        self.conv1 = GCNConv(in_channels=2, out_channels=16)  # Input: 2D features (why 2D? because our node has 2 input features)\n",
        "        self.conv2 = GCNConv(in_channels=16, out_channels=8)\n",
        "        self.linear= nn.Linear(in_features=8, out_features=1) # Output: 1D logits (why 1D? because we are going to pass it into a sigmoid function, which requires a single output value per node for binary classification)\n",
        "\n",
        "    def forward(self, data):\n",
        "        x, edge_index = data.x, data.edge_index\n",
        "        x = self.conv1(x, edge_index)\n",
        "        x = F.relu(x)\n",
        "        x = self.conv2(x, edge_index)\n",
        "        x = self.linear(x)\n",
        "        return x  # Raw logits\n",
        "\n",
        "# Step 5: Initialize model, optimizer, and loss\n",
        "model = SimpleGCN()\n",
        "optimizer = optim.Adam(model.parameters(), lr=0.001)\n",
        "criterion = nn.BCEWithLogitsLoss()\n",
        "\n",
        "# Step 6: Training function\n",
        "def train():\n",
        "    model.train()\n",
        "    optimizer.zero_grad()\n",
        "    logits = model(data)  # Shape: [num_nodes, 1]\n",
        "    # Compute loss only on training nodes\n",
        "    loss = criterion(logits[data.train_mask], data.y[data.train_mask].unsqueeze(1))\n",
        "    loss.backward()\n",
        "    optimizer.step()\n",
        "    return loss.item()\n",
        "\n",
        "# Step 7: Training loop\n",
        "for epoch in range(1, 101):\n",
        "    loss = train()\n",
        "    if epoch % 20 == 0:\n",
        "        print(f'Epoch {epoch}, Loss: {loss:.4f}')\n",
        "\n",
        "# Step 8: Evaluation function\n",
        "def evaluate(mask):\n",
        "    model.eval()\n",
        "    with torch.no_grad():\n",
        "        logits = model(data)\n",
        "        probs = torch.sigmoid(logits)\n",
        "        pred = (probs > 0.5).float()\n",
        "        correct = (pred[mask] == data.y[mask].unsqueeze(1)).sum().item()\n",
        "        acc = correct / mask.sum().item()\n",
        "    return acc\n",
        "\n",
        "# Step 9: Evaluate on validation set\n",
        "val_acc = evaluate(data.val_mask)\n",
        "print(f'Validation Accuracy: {val_acc:.4f}')"
      ],
      "metadata": {
        "colab": {
          "base_uri": "https://localhost:8080/"
        },
        "id": "HxDRsEYvI8E7",
        "outputId": "20dcf53c-e883-4b75-f334-320e9171e583"
      },
      "execution_count": null,
      "outputs": [
        {
          "output_type": "stream",
          "name": "stdout",
          "text": [
            "Epoch 20, Loss: 0.6333\n",
            "Epoch 40, Loss: 0.5265\n",
            "Epoch 60, Loss: 0.4140\n",
            "Epoch 80, Loss: 0.3027\n",
            "Epoch 100, Loss: 0.2061\n",
            "Validation Accuracy: 0.6667\n"
          ]
        }
      ]
    },
    {
      "cell_type": "markdown",
      "source": [
        "As you can see here, we use a mask to split the graph’s nodes into training, validation sets, ensuring the model learns from some nodes and is evaluated on others for generalization. Without a mask, the model trains and evaluates on all nodes, risking overfitting and providing no measure of performance on unseen data."
      ],
      "metadata": {
        "id": "2N0OLr00KlmZ"
      }
    },
    {
      "cell_type": "markdown",
      "source": [
        "# Dataset for Your Assignment (Zachary Karate Club Network)"
      ],
      "metadata": {
        "id": "VddXV1_QRnZh"
      }
    },
    {
      "cell_type": "code",
      "source": [
        "data = nx.karate_club_graph()"
      ],
      "metadata": {
        "id": "rtRcCZLARm-_"
      },
      "execution_count": null,
      "outputs": []
    }
  ]
}