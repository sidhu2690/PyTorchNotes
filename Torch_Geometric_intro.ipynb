{
  "nbformat": 4,
  "nbformat_minor": 0,
  "metadata": {
    "colab": {
      "provenance": [],
      "authorship_tag": "ABX9TyPpyE37mkr4u+BfuHWaAS/X",
      "include_colab_link": true
    },
    "kernelspec": {
      "name": "python3",
      "display_name": "Python 3"
    },
    "language_info": {
      "name": "python"
    }
  },
  "cells": [
    {
      "cell_type": "markdown",
      "metadata": {
        "id": "view-in-github",
        "colab_type": "text"
      },
      "source": [
        "<a href=\"https://colab.research.google.com/github/sidhu2690/PyTorchNotes/blob/main/Torch_Geometric_intro.ipynb\" target=\"_parent\"><img src=\"https://colab.research.google.com/assets/colab-badge.svg\" alt=\"Open In Colab\"/></a>"
      ]
    },
    {
      "cell_type": "markdown",
      "source": [
        "### What is Torch-Geometric(or PyG)?\n",
        "Graphs are everywhere—think social networks (nodes are people, edges are friendships), molecular structures (nodes are atoms, edges are bonds), or citation networks (nodes are papers, edges are citations). Torch-Geometric([doc](https://pytorch-geometric.readthedocs.io/en/latest/)) makes it easy to apply deep learning techniques to these structures.\n",
        "\n",
        "For this introduction, we’ll focus on node classification, where the goal is to predict a label for each node in a graph (e.g., classifying people into communities in a social network)."
      ],
      "metadata": {
        "id": "ps9Pe5z8AMIm"
      }
    },
    {
      "cell_type": "markdown",
      "source": [
        "You can install the torch-geometric library from PyPI using pip."
      ],
      "metadata": {
        "id": "0TpOATpt_4rx"
      }
    },
    {
      "cell_type": "code",
      "execution_count": 8,
      "metadata": {
        "colab": {
          "base_uri": "https://localhost:8080/"
        },
        "id": "h-9JCfNK_umt",
        "outputId": "5350d676-ebff-4fcf-ab1d-8706b637d981"
      },
      "outputs": [
        {
          "output_type": "stream",
          "name": "stdout",
          "text": [
            "Requirement already satisfied: torch-geometric in /usr/local/lib/python3.11/dist-packages (2.6.1)\n",
            "Requirement already satisfied: aiohttp in /usr/local/lib/python3.11/dist-packages (from torch-geometric) (3.11.15)\n",
            "Requirement already satisfied: fsspec in /usr/local/lib/python3.11/dist-packages (from torch-geometric) (2025.3.2)\n",
            "Requirement already satisfied: jinja2 in /usr/local/lib/python3.11/dist-packages (from torch-geometric) (3.1.6)\n",
            "Requirement already satisfied: numpy in /usr/local/lib/python3.11/dist-packages (from torch-geometric) (2.0.2)\n",
            "Requirement already satisfied: psutil>=5.8.0 in /usr/local/lib/python3.11/dist-packages (from torch-geometric) (5.9.5)\n",
            "Requirement already satisfied: pyparsing in /usr/local/lib/python3.11/dist-packages (from torch-geometric) (3.2.3)\n",
            "Requirement already satisfied: requests in /usr/local/lib/python3.11/dist-packages (from torch-geometric) (2.32.3)\n",
            "Requirement already satisfied: tqdm in /usr/local/lib/python3.11/dist-packages (from torch-geometric) (4.67.1)\n",
            "Requirement already satisfied: aiohappyeyeballs>=2.3.0 in /usr/local/lib/python3.11/dist-packages (from aiohttp->torch-geometric) (2.6.1)\n",
            "Requirement already satisfied: aiosignal>=1.1.2 in /usr/local/lib/python3.11/dist-packages (from aiohttp->torch-geometric) (1.3.2)\n",
            "Requirement already satisfied: attrs>=17.3.0 in /usr/local/lib/python3.11/dist-packages (from aiohttp->torch-geometric) (25.3.0)\n",
            "Requirement already satisfied: frozenlist>=1.1.1 in /usr/local/lib/python3.11/dist-packages (from aiohttp->torch-geometric) (1.5.0)\n",
            "Requirement already satisfied: multidict<7.0,>=4.5 in /usr/local/lib/python3.11/dist-packages (from aiohttp->torch-geometric) (6.3.2)\n",
            "Requirement already satisfied: propcache>=0.2.0 in /usr/local/lib/python3.11/dist-packages (from aiohttp->torch-geometric) (0.3.1)\n",
            "Requirement already satisfied: yarl<2.0,>=1.17.0 in /usr/local/lib/python3.11/dist-packages (from aiohttp->torch-geometric) (1.18.3)\n",
            "Requirement already satisfied: MarkupSafe>=2.0 in /usr/local/lib/python3.11/dist-packages (from jinja2->torch-geometric) (3.0.2)\n",
            "Requirement already satisfied: charset-normalizer<4,>=2 in /usr/local/lib/python3.11/dist-packages (from requests->torch-geometric) (3.4.1)\n",
            "Requirement already satisfied: idna<4,>=2.5 in /usr/local/lib/python3.11/dist-packages (from requests->torch-geometric) (3.10)\n",
            "Requirement already satisfied: urllib3<3,>=1.21.1 in /usr/local/lib/python3.11/dist-packages (from requests->torch-geometric) (2.3.0)\n",
            "Requirement already satisfied: certifi>=2017.4.17 in /usr/local/lib/python3.11/dist-packages (from requests->torch-geometric) (2025.1.31)\n"
          ]
        }
      ],
      "source": [
        "!pip install torch-geometric"
      ]
    },
    {
      "cell_type": "markdown",
      "source": [
        "## What is a Graph?\n",
        "\n",
        "A graph is a fundamental data structure used to model relationships between objects. It consists of two primary components:\n",
        "\n",
        "**Nodes (Vertices):**\n",
        "\n",
        "* These represent the entities within the graph. Think of them as the individual items or points of interest.\n",
        "\n",
        "**Edges:**\n",
        "\n",
        "* These represent the connections or relationships between the nodes. They indicate how the entities are linked.\n",
        "\n",
        "Nodes can have features (e.g., a person’s age or interests).\n",
        "\n",
        "Edges can have features or weights (e.g., the strength of a friendship).\n",
        "\n",
        "We often have labels for nodes (e.g., which community a person belongs to)."
      ],
      "metadata": {
        "id": "d_vqdDeoAtZ-"
      }
    },
    {
      "cell_type": "markdown",
      "source": [
        "Torch-Geometric represents graphs using a Data object, which we’ll explore next."
      ],
      "metadata": {
        "id": "7hbjXJ68BkTV"
      }
    },
    {
      "cell_type": "markdown",
      "source": [
        "### The Data Object in Torch-Geometric\n",
        "\n",
        "The `Data` object is the core of Torch-Geometric. It’s a container that holds all the information about a graph."
      ],
      "metadata": {
        "id": "qxjn_EhaCc4A"
      }
    },
    {
      "cell_type": "code",
      "source": [
        "import torch\n",
        "from torch_geometric.data import Data\n",
        "\n",
        "# Define edges: a triangle (0-1, 1-2, 2-0)\n",
        "edge_index = torch.tensor([[0, 1, 1, 2, 2, 0],\n",
        "                           [1, 0, 2, 1, 0, 2]], dtype=torch.long)\n",
        "\n",
        "# Node features: each node has a 2D feature vector\n",
        "x = torch.tensor([[1.0, 0.0], [0.0, 1.0], [1.0, 1.0]], dtype=torch.float)\n",
        "\n",
        "# Node labels: binary classification (0 or 1)\n",
        "y = torch.tensor([0, 1, 0], dtype=torch.float)\n",
        "\n",
        "# Create the Data object\n",
        "data = Data(x=x, edge_index=edge_index, y=y)\n",
        "\n",
        "print(data)"
      ],
      "metadata": {
        "colab": {
          "base_uri": "https://localhost:8080/"
        },
        "id": "hRWmvXVPAG2F",
        "outputId": "0badc3fc-1a7a-4a60-c0e2-506fa3b2954d"
      },
      "execution_count": 71,
      "outputs": [
        {
          "output_type": "stream",
          "name": "stdout",
          "text": [
            "Data(x=[3, 2], edge_index=[2, 6], y=[3])\n"
          ]
        }
      ]
    },
    {
      "cell_type": "code",
      "source": [
        "data.x"
      ],
      "metadata": {
        "colab": {
          "base_uri": "https://localhost:8080/"
        },
        "id": "OB-c9nIwC3dW",
        "outputId": "10f8bc4d-7cfe-4214-c813-9dd24947d554"
      },
      "execution_count": 72,
      "outputs": [
        {
          "output_type": "execute_result",
          "data": {
            "text/plain": [
              "tensor([[1., 0.],\n",
              "        [0., 1.],\n",
              "        [1., 1.]])"
            ]
          },
          "metadata": {},
          "execution_count": 72
        }
      ]
    },
    {
      "cell_type": "code",
      "source": [
        "data.edge_index"
      ],
      "metadata": {
        "colab": {
          "base_uri": "https://localhost:8080/"
        },
        "id": "FZpm-wmPC7a6",
        "outputId": "241b735b-7ccd-4401-e816-e8c5343a7950"
      },
      "execution_count": 73,
      "outputs": [
        {
          "output_type": "execute_result",
          "data": {
            "text/plain": [
              "tensor([[0, 1, 1, 2, 2, 0],\n",
              "        [1, 0, 2, 1, 0, 2]])"
            ]
          },
          "metadata": {},
          "execution_count": 73
        }
      ]
    },
    {
      "cell_type": "markdown",
      "source": [
        "* `edge_index`: Defines the graph structure; edges are undirected, so we include both directions (e.g., 0→1 and 1→0).\n",
        "* `x`: Gives each node a feature vector (here, 2D for simplicity).\n",
        "* `y`: Assigns a label to each node."
      ],
      "metadata": {
        "id": "99vUzRKiALOV"
      }
    },
    {
      "cell_type": "markdown",
      "source": [
        "### Using NetworkX with Torch-Geometric\n",
        "\n",
        "NetworkX is a Python library for creating and manipulating graphs. Torch-Geometric provides a utility, `from_networkx`, to convert a NetworkX graph into a `Data` object. This is super useful for building custom graphs."
      ],
      "metadata": {
        "id": "bfUiWuQZDlE7"
      }
    },
    {
      "cell_type": "code",
      "source": [
        "!pip install -q networkx"
      ],
      "metadata": {
        "id": "l8N-t6xDDsrG"
      },
      "execution_count": 74,
      "outputs": []
    },
    {
      "cell_type": "code",
      "source": [
        "import networkx as nx\n",
        "import matplotlib.pyplot as plt\n",
        "from torch_geometric.utils import from_networkx\n",
        "\n",
        "# Create a simple graph with NetworkX (avoiding the Karate Club graph)\n",
        "G = nx.Graph()\n",
        "G.add_edges_from([(0, 1), (0, 2), (1, 2), (2, 3)])\n",
        "\n",
        "# Optionally, you can add node features to your NetworkX graph\n",
        "for i in G.nodes():\n",
        "    G.nodes[i]['x'] = [1.0, 0.0]  # Example: Every node gets the same 2-dimensional feature\n",
        "\n",
        "# Convert NetworkX graph to a Torch-Geometric Data object\n",
        "data = from_networkx(G)\n",
        "\n",
        "print(data)"
      ],
      "metadata": {
        "colab": {
          "base_uri": "https://localhost:8080/"
        },
        "id": "HV3lAWqZDK_H",
        "outputId": "84b3434b-4f4b-410d-dddf-77280846c4aa"
      },
      "execution_count": 75,
      "outputs": [
        {
          "output_type": "stream",
          "name": "stdout",
          "text": [
            "Data(x=[4, 2], edge_index=[2, 8])\n"
          ]
        }
      ]
    },
    {
      "cell_type": "markdown",
      "source": [
        "NetworkX’s `draw` function lets you visualize the graph."
      ],
      "metadata": {
        "id": "psC9dRY7E9pU"
      }
    },
    {
      "cell_type": "code",
      "source": [
        "import matplotlib.pyplot as plt\n",
        "\n",
        "plt.figure(figsize=(4,4))\n",
        "nx.draw(G, with_labels=True)\n",
        "plt.show()"
      ],
      "metadata": {
        "colab": {
          "base_uri": "https://localhost:8080/",
          "height": 436
        },
        "id": "ZX2U1WLPD-de",
        "outputId": "db61aed5-6428-4f45-cb23-17475ca9af13"
      },
      "execution_count": 76,
      "outputs": [
        {
          "output_type": "display_data",
          "data": {
            "text/plain": [
              "<Figure size 400x400 with 1 Axes>"
            ],
            "image/png": "[encoded data removed]"
          },
          "metadata": {}
        }
      ]
    },
    {
      "cell_type": "markdown",
      "source": [
        "### Building a GNN Model Using PyG\n",
        "\n",
        "GNNs use specialized layers to process graph-structured data. One of the basic layers is `GCNConv` from PyTorch Geometric, which is based on the graph convolutional network (GCN) model.\n",
        "\n",
        "#### Example: A Single GCN Layer"
      ],
      "metadata": {
        "id": "m6QmXUOfHHwP"
      }
    },
    {
      "cell_type": "code",
      "source": [
        "from torch_geometric.nn import GCNConv\n",
        "import torch.nn.functional as F\n",
        "\n",
        "# Create a GCN layer: converting 2 input features to 4 output features.\n",
        "conv = GCNConv(in_channels=2, out_channels=4)\n",
        "\n",
        "# A forward pass through the layer.\n",
        "# Create dummy edge weights (optional; if not provided, defaults will be used)\n",
        "edge_weight = torch.ones(data.edge_index.size(1))\n",
        "\n",
        "# Pass the data through the layer\n",
        "x_out = conv(data.x, data.edge_index, edge_weight)\n",
        "print(\"GCN Layer Output:\\n\", x_out)"
      ],
      "metadata": {
        "colab": {
          "base_uri": "https://localhost:8080/"
        },
        "id": "Y2MpRRMuEAY_",
        "outputId": "72cc2769-9850-400b-bc33-ec1bdc6a6b9d"
      },
      "execution_count": 77,
      "outputs": [
        {
          "output_type": "stream",
          "name": "stdout",
          "text": [
            "GCN Layer Output:\n",
            " tensor([[ 0.7449, -0.4942, -0.3893,  0.6769],\n",
            "        [ 0.7449, -0.4942, -0.3893,  0.6769],\n",
            "        [ 0.9208, -0.6108, -0.4813,  0.8368],\n",
            "        [ 0.6655, -0.4415, -0.3479,  0.6048]], grad_fn=<AddBackward0>)\n"
          ]
        }
      ]
    },
    {
      "cell_type": "markdown",
      "source": [
        "### Exploring More GNN Layers\n",
        "\n",
        "Torch-Geometric comes with various GNN layers. Here are a few additional options:\n",
        "\n",
        "* **GraphSAGE (`SAGEConv`):** Aggregates neighbor information by sampling and pooling.\n",
        "* **GATConv:** Uses an attention mechanism on edges.\n",
        "* **GraphConv:** Another variation on graph convolutions."
      ],
      "metadata": {
        "id": "cYn9luYzIBKt"
      }
    },
    {
      "cell_type": "code",
      "source": [
        "from torch_geometric.nn import SAGEConv, GATConv, GraphConv\n",
        "\n",
        "# Define layers converting from 2 input features to 4 output features.\n",
        "sage_layer = SAGEConv(in_channels=2, out_channels=4)\n",
        "gat_layer = GATConv(in_channels=2, out_channels=4, heads=2, concat=False)\n",
        "graphconv_layer = GraphConv(in_channels=2, out_channels=4)\n",
        "\n",
        "print(\"SAGE Layer Output:\\n\", sage_layer(data.x, data.edge_index))\n",
        "print(\"GAT Layer Output:\\n\", gat_layer(data.x, data.edge_index))\n",
        "print(\"GraphConv Layer Output:\\n\", graphconv_layer(data.x, data.edge_index))\n"
      ],
      "metadata": {
        "colab": {
          "base_uri": "https://localhost:8080/"
        },
        "id": "zOTvKCPyHvW-",
        "outputId": "dfd15aa5-02d3-48d2-bcdd-2fe3aa5e42db"
      },
      "execution_count": 78,
      "outputs": [
        {
          "output_type": "stream",
          "name": "stdout",
          "text": [
            "SAGE Layer Output:\n",
            " tensor([[ 0.8496,  1.1451,  0.2273, -0.2608],\n",
            "        [ 0.8496,  1.1451,  0.2273, -0.2608],\n",
            "        [ 0.8496,  1.1451,  0.2273, -0.2608],\n",
            "        [ 0.8496,  1.1451,  0.2273, -0.2608]], grad_fn=<AddBackward0>)\n",
            "GAT Layer Output:\n",
            " tensor([[-0.2080,  0.1580,  0.3182,  0.5768],\n",
            "        [-0.2080,  0.1580,  0.3182,  0.5768],\n",
            "        [-0.2080,  0.1580,  0.3182,  0.5768],\n",
            "        [-0.2080,  0.1580,  0.3182,  0.5768]], grad_fn=<AddBackward0>)\n",
            "GraphConv Layer Output:\n",
            " tensor([[ 1.8585, -0.4158,  1.3489, -0.1955],\n",
            "        [ 1.8585, -0.4158,  1.3489, -0.1955],\n",
            "        [ 2.3305, -0.4159,  1.7207, -0.5071],\n",
            "        [ 1.3865, -0.4157,  0.9771,  0.1161]], grad_fn=<AddBackward0>)\n"
          ]
        }
      ]
    },
    {
      "cell_type": "markdown",
      "source": [
        "Each layer processes the graph slightly differently. Experimenting with these layers is an excellent way to understand how different architectures affect performance."
      ],
      "metadata": {
        "id": "4YcxzUq-IKWU"
      }
    },
    {
      "cell_type": "markdown",
      "source": [
        "### Incorporating Normalization: GraphNorm\n",
        "\n",
        "Normalization layers like `GraphNorm` can help stabilize training by normalizing the features across nodes for each graph."
      ],
      "metadata": {
        "id": "GgPSwCjRIP8d"
      }
    },
    {
      "cell_type": "code",
      "source": [
        "from torch_geometric.nn import GraphNorm\n",
        "\n",
        "# Define a GraphNorm layer for 4-dimensional features.\n",
        "gnorm = GraphNorm(in_channels=4)\n",
        "\n",
        "# Apply GCN convolution first and then normalization.\n",
        "x_gcn = conv(data.x, data.edge_index, edge_weight=None)\n",
        "x_norm = gnorm(x_gcn)\n",
        "print(\"After GraphNorm:\\n\", x_norm)"
      ],
      "metadata": {
        "colab": {
          "base_uri": "https://localhost:8080/"
        },
        "id": "k_mDU7HUIAAI",
        "outputId": "3cab350e-b557-4294-940b-816839b07fa3"
      },
      "execution_count": 79,
      "outputs": [
        {
          "output_type": "stream",
          "name": "stdout",
          "text": [
            "After GraphNorm:\n",
            " tensor([[-0.2581,  0.2580,  0.2578, -0.2581],\n",
            "        [-0.2581,  0.2580,  0.2578, -0.2581],\n",
            "        [ 1.6236, -1.6224, -1.6211,  1.6234],\n",
            "        [-1.1073,  1.1065,  1.1056, -1.1072]], grad_fn=<AddBackward0>)\n"
          ]
        }
      ]
    },
    {
      "cell_type": "markdown",
      "source": [
        "### Working with Multiple Graphs Using DataLoader\n",
        "\n",
        "When you have many graphs (e.g., different molecules or social network subgraphs), you can use PyG’s `DataLoader` to handle batch processing. This is analogous to PyTorch’s `DataLoader` but specialized for graphs.\n",
        "\n",
        "#### Example: Creating a Mini-Batch of Graphs"
      ],
      "metadata": {
        "id": "UA8DxqRiIyoI"
      }
    },
    {
      "cell_type": "code",
      "source": [
        "from torch_geometric.data import Data\n",
        "from torch_geometric.loader import DataLoader\n",
        "\n",
        "# Create a list of 5 simple graph Data objects (for demonstration purposes, we use the same graph repeatedly)\n",
        "graph_list = []\n",
        "for _ in range(5):\n",
        "    graph = Data(x=data.x, edge_index=data.edge_index, y=data.y)\n",
        "    graph_list.append(graph)\n",
        "\n",
        "# Create a DataLoader for batching\n",
        "loader = DataLoader(graph_list, batch_size=2)\n",
        "\n",
        "# Iterate over mini-batches\n",
        "for batch in loader:\n",
        "    print(\"Batch x shape:\", batch.x.shape)             # Combined node features from batch graphs\n",
        "    print(\"Batch edge_index shape:\", batch.edge_index.shape)\n",
        "    print(\"Batch vector:\", batch.batch)                  # Indicates which node belongs to which graph\n"
      ],
      "metadata": {
        "colab": {
          "base_uri": "https://localhost:8080/"
        },
        "id": "T1pLVFfGIhvd",
        "outputId": "645a77b2-08a9-4cd3-f438-812aa30e7300"
      },
      "execution_count": 80,
      "outputs": [
        {
          "output_type": "stream",
          "name": "stdout",
          "text": [
            "Batch x shape: torch.Size([8, 2])\n",
            "Batch edge_index shape: torch.Size([2, 16])\n",
            "Batch vector: tensor([0, 0, 0, 0, 1, 1, 1, 1])\n",
            "Batch x shape: torch.Size([8, 2])\n",
            "Batch edge_index shape: torch.Size([2, 16])\n",
            "Batch vector: tensor([0, 0, 0, 0, 1, 1, 1, 1])\n",
            "Batch x shape: torch.Size([4, 2])\n",
            "Batch edge_index shape: torch.Size([2, 8])\n",
            "Batch vector: tensor([0, 0, 0, 0])\n"
          ]
        }
      ]
    },
    {
      "cell_type": "markdown",
      "source": [
        "#### What If the Nodes Don’t Have Any Features?\n",
        "Not all graphs come with node features. For example, many social or citation networks might only give you the graph structure—who connects to whom—but no additional data about the nodes. So what do we do?\n",
        "\n",
        "🤔 Torch-Geometric (and GNNs in general) require node features to start the message-passing. If your nodes don’t have any features, one common trick is to use one-hot encodings based on the node index. This gives each node a unique identity."
      ],
      "metadata": {
        "id": "9TUY_L45NmMJ"
      }
    },
    {
      "cell_type": "code",
      "source": [
        "import torch\n",
        "from torch_geometric.data import Data\n",
        "from torch_geometric.nn import GCNConv\n",
        "\n",
        "# Create a graph with 4 nodes and some edges\n",
        "edge_index = torch.tensor([\n",
        "    [0, 1, 2, 3, 0, 2],\n",
        "    [1, 0, 3, 2, 2, 0]\n",
        "], dtype=torch.long)\n",
        "\n",
        "# No node features!\n",
        "# x = None or torch.empty(num_nodes, 0) will both fail in GCNConv\n",
        "\n",
        "num_nodes = 4\n",
        "# Let's try to use a dummy model\n",
        "conv = GCNConv(in_channels=4, out_channels=2)\n",
        "\n",
        "# Try 1: No node features (just pass None) – will raise an error!\n",
        "try:\n",
        "    x_none = None\n",
        "    data = Data(x=x_none, edge_index=edge_index)\n",
        "    out = conv(data.x, data.edge_index)\n",
        "except Exception as e:\n",
        "    print(\"❌ Failed without node features:\", e)\n"
      ],
      "metadata": {
        "colab": {
          "base_uri": "https://localhost:8080/"
        },
        "id": "oEM5FQQKNse1",
        "outputId": "858b0ecc-4c25-4373-babd-d45b47af4c6c"
      },
      "execution_count": 81,
      "outputs": [
        {
          "output_type": "stream",
          "name": "stdout",
          "text": [
            "❌ Failed without node features: 'NoneType' object has no attribute 'size'\n"
          ]
        }
      ]
    },
    {
      "cell_type": "markdown",
      "source": [
        "##### Fix: Use One-Hot Encoding for Node Indices\n"
      ],
      "metadata": {
        "id": "LTmcbY2FN3Mh"
      }
    },
    {
      "cell_type": "code",
      "source": [
        "# Use one-hot encoding for node IDs\n",
        "x_onehot = torch.eye(num_nodes)\n",
        "\n",
        "data = Data(x=x_onehot, edge_index=edge_index)\n",
        "out = conv(data.x, data.edge_index)\n",
        "\n",
        "print(\"✅ Output with one-hot features:\\n\", out)\n"
      ],
      "metadata": {
        "colab": {
          "base_uri": "https://localhost:8080/"
        },
        "id": "ZL7y767GN10Z",
        "outputId": "28b33b1d-ede7-4294-d2d0-990e5e400420"
      },
      "execution_count": 82,
      "outputs": [
        {
          "output_type": "stream",
          "name": "stdout",
          "text": [
            "✅ Output with one-hot features:\n",
            " tensor([[-0.8042, -0.2406],\n",
            "        [-0.6951,  0.0365],\n",
            "        [-0.7411, -0.4766],\n",
            "        [-0.5817, -0.6396]], grad_fn=<AddBackward0>)\n"
          ]
        }
      ]
    },
    {
      "cell_type": "markdown",
      "source": [
        "### A Simple Training Loop for Node Classification\n",
        "\n",
        "Let’s put together a small GNN model and demonstrate training for a node classification task. We’ll use train and validation masks to focus on subsets of nodes for training and evaluation.\n",
        "\n",
        "#### Example: Defining the Model and Training Loop"
      ],
      "metadata": {
        "id": "zysyEbiYJYyD"
      }
    },
    {
      "cell_type": "code",
      "source": [
        "import torch\n",
        "import torch.nn as nn\n",
        "import torch.nn.functional as F\n",
        "import torch.optim as optim\n",
        "import numpy as np\n",
        "import networkx as nx\n",
        "from torch_geometric.data import Data\n",
        "from torch_geometric.nn import GCNConv\n",
        "from torch_geometric.utils import from_networkx\n",
        "\n",
        "# Step 1: Create a simple graph (star graph with 5 nodes)\n",
        "G = nx.star_graph(4)  # Central node 0, connected to 1, 2, 3, 4\n",
        "data = from_networkx(G)\n",
        "\n",
        "# Step 2: Add node features and labels\n",
        "data.x = torch.ones(data.num_nodes, 2)  # 2D feature vector [1, 1] for each node\n",
        "data.y = torch.tensor([0, 1, 1, 1, 1], dtype=torch.float)  # Central node: 0, others: 1\n",
        "\n",
        "# Step 3: Create train and validation masks\n",
        "num_nodes = data.num_nodes\n",
        "indices = np.random.permutation(num_nodes)\n",
        "train_idx, val_idx = indices[:2], indices[2:]  # 2 nodes for train, 3 for val\n",
        "data.train_mask = torch.zeros(num_nodes, dtype=torch.bool)\n",
        "data.val_mask = torch.zeros(num_nodes, dtype=torch.bool)\n",
        "data.train_mask[train_idx] = True\n",
        "data.val_mask[val_idx] = True\n",
        "\n",
        "# Step 4: Define the GCN model\n",
        "class SimpleGCN(nn.Module):\n",
        "    def __init__(self):\n",
        "        super(SimpleGCN, self).__init__()\n",
        "        self.conv1 = GCNConv(in_channels=2, out_channels=16)  # Input: 2D features (why 2D? because our node has 2 input features)\n",
        "        self.conv2 = GCNConv(in_channels=16, out_channels=8)\n",
        "        self.linear= nn.Linear(in_features=8, out_features=1) # Output: 1D logits (why 1D? because we are going to pass it into a sigmoid function, which requires a single output value per node for binary classification)\n",
        "\n",
        "    def forward(self, data):\n",
        "        x, edge_index = data.x, data.edge_index\n",
        "        x = self.conv1(x, edge_index)\n",
        "        x = F.relu(x)\n",
        "        x = self.conv2(x, edge_index)\n",
        "        x = self.linear(x)\n",
        "        return x  # Raw logits\n",
        "\n",
        "# Step 5: Initialize model, optimizer, and loss\n",
        "model = SimpleGCN()\n",
        "optimizer = optim.Adam(model.parameters(), lr=0.001)\n",
        "criterion = nn.BCEWithLogitsLoss()\n",
        "\n",
        "# Step 6: Training function\n",
        "def train():\n",
        "    model.train()\n",
        "    optimizer.zero_grad()\n",
        "    logits = model(data)  # Shape: [num_nodes, 1]\n",
        "    # Compute loss only on training nodes\n",
        "    loss = criterion(logits[data.train_mask], data.y[data.train_mask].unsqueeze(1))\n",
        "    loss.backward()\n",
        "    optimizer.step()\n",
        "    return loss.item()\n",
        "\n",
        "# Step 7: Training loop\n",
        "for epoch in range(1, 101):\n",
        "    loss = train()\n",
        "    if epoch % 20 == 0:\n",
        "        print(f'Epoch {epoch}, Loss: {loss:.4f}')\n",
        "\n",
        "# Step 8: Evaluation function\n",
        "def evaluate(mask):\n",
        "    model.eval()\n",
        "    with torch.no_grad():\n",
        "        logits = model(data)\n",
        "        probs = torch.sigmoid(logits)\n",
        "        pred = (probs > 0.5).float()\n",
        "        correct = (pred[mask] == data.y[mask].unsqueeze(1)).sum().item()\n",
        "        acc = correct / mask.sum().item()\n",
        "    return acc\n",
        "\n",
        "# Step 9: Evaluate on validation set\n",
        "val_acc = evaluate(data.val_mask)\n",
        "print(f'Validation Accuracy: {val_acc:.4f}')"
      ],
      "metadata": {
        "colab": {
          "base_uri": "https://localhost:8080/"
        },
        "id": "HxDRsEYvI8E7",
        "outputId": "4a1ea444-084f-4fd5-c29c-ebcbe5f538f9"
      },
      "execution_count": 85,
      "outputs": [
        {
          "output_type": "stream",
          "name": "stdout",
          "text": [
            "Epoch 20, Loss: 0.4606\n",
            "Epoch 40, Loss: 0.3810\n",
            "Epoch 60, Loss: 0.3043\n",
            "Epoch 80, Loss: 0.2329\n",
            "Epoch 100, Loss: 0.1712\n",
            "Validation Accuracy: 0.6667\n"
          ]
        }
      ]
    },
    {
      "cell_type": "markdown",
      "source": [
        "As you can see here, we use a mask to split the graph’s nodes into training, validation, and test sets, ensuring the model learns from some nodes and is evaluated on others for generalization. Without a mask, the model trains and evaluates on all nodes, risking overfitting and providing no measure of performance on unseen data."
      ],
      "metadata": {
        "id": "2N0OLr00KlmZ"
      }
    }
  ]
}